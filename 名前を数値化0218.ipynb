{
 "cells": [
  {
   "cell_type": "code",
   "execution_count": 1,
   "id": "a97044de",
   "metadata": {},
   "outputs": [],
   "source": [
    "import pandas as pd\n",
    "from sklearn import tree\n",
    "from sklearn.model_selection import train_test_split\n",
    "%matplotlib inline"
   ]
  },
  {
   "cell_type": "code",
   "execution_count": 2,
   "id": "8aea2920",
   "metadata": {},
   "outputs": [],
   "source": [
    "# ｄｆとして保存済みのはずれ値処理データを読み込む\n",
    "df= pd.read_pickle('ダミー処理①0218.pkl')"
   ]
  },
  {
   "cell_type": "code",
   "execution_count": 3,
   "id": "5ca9cbc9",
   "metadata": {},
   "outputs": [
    {
     "data": {
      "text/plain": [
       "(537533, 78)"
      ]
     },
     "execution_count": 3,
     "metadata": {},
     "output_type": "execute_result"
    }
   ],
   "source": [
    "df.shape"
   ]
  },
  {
   "cell_type": "code",
   "execution_count": 4,
   "id": "175ca41e",
   "metadata": {},
   "outputs": [
    {
     "data": {
      "text/html": [
       "<div>\n",
       "<style scoped>\n",
       "    .dataframe tbody tr th:only-of-type {\n",
       "        vertical-align: middle;\n",
       "    }\n",
       "\n",
       "    .dataframe tbody tr th {\n",
       "        vertical-align: top;\n",
       "    }\n",
       "\n",
       "    .dataframe thead th {\n",
       "        text-align: right;\n",
       "    }\n",
       "</style>\n",
       "<table border=\"1\" class=\"dataframe\">\n",
       "  <thead>\n",
       "    <tr style=\"text-align: right;\">\n",
       "      <th></th>\n",
       "      <th>場所</th>\n",
       "      <th>馬名</th>\n",
       "      <th>距離</th>\n",
       "      <th>走破タイム</th>\n",
       "      <th>レース番号</th>\n",
       "      <th>騎手名</th>\n",
       "      <th>斤量</th>\n",
       "      <th>馬番</th>\n",
       "      <th>馬体重</th>\n",
       "      <th>上がり3Fタイム</th>\n",
       "      <th>...</th>\n",
       "      <th>美→中京</th>\n",
       "      <th>美→中山</th>\n",
       "      <th>美→京都</th>\n",
       "      <th>美→函館</th>\n",
       "      <th>美→小倉</th>\n",
       "      <th>美→新潟</th>\n",
       "      <th>美→札幌</th>\n",
       "      <th>美→東京</th>\n",
       "      <th>美→福島</th>\n",
       "      <th>美→阪神</th>\n",
       "    </tr>\n",
       "  </thead>\n",
       "  <tbody>\n",
       "    <tr>\n",
       "      <th>0</th>\n",
       "      <td>札幌</td>\n",
       "      <td>サンダビューク</td>\n",
       "      <td>1000</td>\n",
       "      <td>59.3</td>\n",
       "      <td>7</td>\n",
       "      <td>石川倭</td>\n",
       "      <td>58.0</td>\n",
       "      <td>6</td>\n",
       "      <td>454</td>\n",
       "      <td>35.9</td>\n",
       "      <td>...</td>\n",
       "      <td>False</td>\n",
       "      <td>False</td>\n",
       "      <td>False</td>\n",
       "      <td>False</td>\n",
       "      <td>False</td>\n",
       "      <td>False</td>\n",
       "      <td>True</td>\n",
       "      <td>False</td>\n",
       "      <td>False</td>\n",
       "      <td>False</td>\n",
       "    </tr>\n",
       "    <tr>\n",
       "      <th>1</th>\n",
       "      <td>札幌</td>\n",
       "      <td>フクノワカバ</td>\n",
       "      <td>1000</td>\n",
       "      <td>59.3</td>\n",
       "      <td>7</td>\n",
       "      <td>鮫島克駿</td>\n",
       "      <td>54.0</td>\n",
       "      <td>5</td>\n",
       "      <td>446</td>\n",
       "      <td>36.1</td>\n",
       "      <td>...</td>\n",
       "      <td>False</td>\n",
       "      <td>False</td>\n",
       "      <td>False</td>\n",
       "      <td>False</td>\n",
       "      <td>False</td>\n",
       "      <td>False</td>\n",
       "      <td>False</td>\n",
       "      <td>False</td>\n",
       "      <td>False</td>\n",
       "      <td>False</td>\n",
       "    </tr>\n",
       "    <tr>\n",
       "      <th>2</th>\n",
       "      <td>札幌</td>\n",
       "      <td>クロンヌドラレーヌ</td>\n",
       "      <td>1000</td>\n",
       "      <td>59.3</td>\n",
       "      <td>7</td>\n",
       "      <td>佐々木大</td>\n",
       "      <td>54.0</td>\n",
       "      <td>12</td>\n",
       "      <td>452</td>\n",
       "      <td>35.1</td>\n",
       "      <td>...</td>\n",
       "      <td>False</td>\n",
       "      <td>False</td>\n",
       "      <td>False</td>\n",
       "      <td>False</td>\n",
       "      <td>False</td>\n",
       "      <td>False</td>\n",
       "      <td>True</td>\n",
       "      <td>False</td>\n",
       "      <td>False</td>\n",
       "      <td>False</td>\n",
       "    </tr>\n",
       "  </tbody>\n",
       "</table>\n",
       "<p>3 rows × 78 columns</p>\n",
       "</div>"
      ],
      "text/plain": [
       "   場所            馬名    距離  走破タイム  レース番号   騎手名    斤量  馬番  馬体重  上がり3Fタイム  ...  \\\n",
       "0  札幌   サンダビューク      1000   59.3      7   石川倭  58.0   6  454      35.9  ...   \n",
       "1  札幌  フクノワカバ        1000   59.3      7  鮫島克駿  54.0   5  446      36.1  ...   \n",
       "2  札幌     クロンヌドラレーヌ  1000   59.3      7  佐々木大  54.0  12  452      35.1  ...   \n",
       "\n",
       "    美→中京   美→中山   美→京都   美→函館   美→小倉   美→新潟   美→札幌   美→東京   美→福島   美→阪神  \n",
       "0  False  False  False  False  False  False   True  False  False  False  \n",
       "1  False  False  False  False  False  False  False  False  False  False  \n",
       "2  False  False  False  False  False  False   True  False  False  False  \n",
       "\n",
       "[3 rows x 78 columns]"
      ]
     },
     "execution_count": 4,
     "metadata": {},
     "output_type": "execute_result"
    }
   ],
   "source": [
    "df.head(3)"
   ]
  },
  {
   "cell_type": "code",
   "execution_count": 5,
   "id": "0f9039cc",
   "metadata": {
    "scrolled": true
   },
   "outputs": [
    {
     "data": {
      "text/plain": [
       "場所       0\n",
       "馬名       0\n",
       "距離       0\n",
       "走破タイム    0\n",
       "レース番号    0\n",
       "        ..\n",
       "美→新潟     0\n",
       "美→札幌     0\n",
       "美→東京     0\n",
       "美→福島     0\n",
       "美→阪神     0\n",
       "Length: 78, dtype: int64"
      ]
     },
     "execution_count": 5,
     "metadata": {},
     "output_type": "execute_result"
    }
   ],
   "source": [
    "#NAないか調べる\n",
    "df.isnull().sum(axis=0)"
   ]
  },
  {
   "cell_type": "code",
   "execution_count": 6,
   "id": "4b703968",
   "metadata": {},
   "outputs": [
    {
     "name": "stdout",
     "output_type": "stream",
     "text": [
      "['場所', '馬名', '距離', '走破タイム', 'レース番号', '騎手名', '斤量', '馬番', '馬体重', '上がり3Fタイム', '調教師', '所属地', '現馬主名', '生産者名', '父馬名', '母馬名', '母の父馬名', 'レースID', '仮予測', '生後日数', 'レースごとの平均賞金', '稍', '良', '重', '牝', '牡', 11, 15, 23, 39, 43, 67, 115, 131, 147, 163, 179, 195, '栗毛', '白毛', '芦毛', '青毛', '青鹿', '鹿毛', '黒鹿', '地→中山', '地→京都', '地→函館', '地→小倉', '地→新潟', '地→札幌', '地→東京', '地→福島', '地→阪神', '外→中京', '外→中山', '外→東京', '外→阪神', '栗→中京', '栗→中山', '栗→京都', '栗→函館', '栗→小倉', '栗→新潟', '栗→札幌', '栗→東京', '栗→福島', '栗→阪神', '美→中京', '美→中山', '美→京都', '美→函館', '美→小倉', '美→新潟', '美→札幌', '美→東京', '美→福島', '美→阪神']\n"
     ]
    }
   ],
   "source": [
    "#どのようなコラムがあるか表示\n",
    "print(df.columns.to_list())"
   ]
  },
  {
   "cell_type": "markdown",
   "id": "e175a83e",
   "metadata": {},
   "source": [
    "# 親名を数値化（生涯総獲得賞金）"
   ]
  },
  {
   "cell_type": "code",
   "execution_count": 7,
   "id": "7d817b61",
   "metadata": {},
   "outputs": [],
   "source": [
    "# ｄｆとして保存済みの「馬」データを読み込む\n",
    "uma = pd.read_pickle('馬.pkl')"
   ]
  },
  {
   "cell_type": "code",
   "execution_count": 8,
   "id": "2d794c4d",
   "metadata": {},
   "outputs": [
    {
     "data": {
      "text/html": [
       "<div>\n",
       "<style scoped>\n",
       "    .dataframe tbody tr th:only-of-type {\n",
       "        vertical-align: middle;\n",
       "    }\n",
       "\n",
       "    .dataframe tbody tr th {\n",
       "        vertical-align: top;\n",
       "    }\n",
       "\n",
       "    .dataframe thead th {\n",
       "        text-align: right;\n",
       "    }\n",
       "</style>\n",
       "<table border=\"1\" class=\"dataframe\">\n",
       "  <thead>\n",
       "    <tr style=\"text-align: right;\">\n",
       "      <th></th>\n",
       "      <th>馬名</th>\n",
       "      <th>血統登録番号</th>\n",
       "      <th>性別</th>\n",
       "      <th>所属</th>\n",
       "      <th>調教師名</th>\n",
       "      <th>種牡馬名</th>\n",
       "      <th>母名</th>\n",
       "      <th>母の父名</th>\n",
       "      <th>馬主名</th>\n",
       "      <th>生産者名</th>\n",
       "      <th>...</th>\n",
       "      <th>芝成績3着数</th>\n",
       "      <th>芝成績着外数</th>\n",
       "      <th>ダート成績1着数</th>\n",
       "      <th>ダート成績2着数</th>\n",
       "      <th>ダート成績3着数</th>\n",
       "      <th>ダート成績着外数</th>\n",
       "      <th>データ作成日</th>\n",
       "      <th>抹消</th>\n",
       "      <th>登録日</th>\n",
       "      <th>抹消日</th>\n",
       "    </tr>\n",
       "  </thead>\n",
       "  <tbody>\n",
       "    <tr>\n",
       "      <th>0</th>\n",
       "      <td>アーヴァイン</td>\n",
       "      <td>15106091</td>\n",
       "      <td>牡</td>\n",
       "      <td>栗</td>\n",
       "      <td>浅見秀一</td>\n",
       "      <td>キンシャサノキセキ</td>\n",
       "      <td>マザイ</td>\n",
       "      <td>Fasliyev</td>\n",
       "      <td>林正道</td>\n",
       "      <td>服部牧場</td>\n",
       "      <td>...</td>\n",
       "      <td>0</td>\n",
       "      <td>8</td>\n",
       "      <td>0</td>\n",
       "      <td>0</td>\n",
       "      <td>0</td>\n",
       "      <td>1</td>\n",
       "      <td>190416</td>\n",
       "      <td>抹消</td>\n",
       "      <td>170629</td>\n",
       "      <td>180828</td>\n",
       "    </tr>\n",
       "  </tbody>\n",
       "</table>\n",
       "<p>1 rows × 31 columns</p>\n",
       "</div>"
      ],
      "text/plain": [
       "       馬名    血統登録番号 性別 所属  調教師名       種牡馬名   母名      母の父名  馬主名  生産者名  ...  \\\n",
       "0  アーヴァイン  15106091  牡  栗  浅見秀一  キンシャサノキセキ  マザイ  Fasliyev  林正道  服部牧場  ...   \n",
       "\n",
       "  芝成績3着数  芝成績着外数  ダート成績1着数  ダート成績2着数  ダート成績3着数  ダート成績着外数  データ作成日  抹消     登録日  \\\n",
       "0      0       8         0         0         0         1  190416  抹消  170629   \n",
       "\n",
       "      抹消日  \n",
       "0  180828  \n",
       "\n",
       "[1 rows x 31 columns]"
      ]
     },
     "execution_count": 8,
     "metadata": {},
     "output_type": "execute_result"
    }
   ],
   "source": [
    "uma.head(1)"
   ]
  },
  {
   "cell_type": "code",
   "execution_count": 9,
   "id": "531d6762",
   "metadata": {},
   "outputs": [
    {
     "name": "stdout",
     "output_type": "stream",
     "text": [
      "['馬名', '血統登録番号', '性別', '所属', '調教師名', '種牡馬名', '母名', '母の父名', '馬主名', '生産者名', '毛色', '生年月日', '本賞金', '収得賞金', '前走馬体重', '全成績1着数', '全成績2着数', '全成績3着数', '全成績着外数', '芝成績1着数', '芝成績2着数', '芝成績3着数', '芝成績着外数', 'ダート成績1着数', 'ダート成績2着数', 'ダート成績3着数', 'ダート成績着外数', 'データ作成日', '抹消', '登録日', '抹消日']\n"
     ]
    }
   ],
   "source": [
    "#コラムを確認\n",
    "print(uma.columns.to_list())"
   ]
  },
  {
   "cell_type": "code",
   "execution_count": 10,
   "id": "74a5a176",
   "metadata": {},
   "outputs": [
    {
     "data": {
      "text/plain": [
       "(99999, 2)"
      ]
     },
     "execution_count": 10,
     "metadata": {},
     "output_type": "execute_result"
    }
   ],
   "source": [
    "#データフレームumaを必要な列だけのdfにする\n",
    "columns=['馬名','本賞金']\n",
    "uma=uma[columns]\n",
    "uma.shape"
   ]
  },
  {
   "cell_type": "code",
   "execution_count": 11,
   "id": "fdd9d127",
   "metadata": {
    "scrolled": false
   },
   "outputs": [
    {
     "data": {
      "text/html": [
       "<div>\n",
       "<style scoped>\n",
       "    .dataframe tbody tr th:only-of-type {\n",
       "        vertical-align: middle;\n",
       "    }\n",
       "\n",
       "    .dataframe tbody tr th {\n",
       "        vertical-align: top;\n",
       "    }\n",
       "\n",
       "    .dataframe thead th {\n",
       "        text-align: right;\n",
       "    }\n",
       "</style>\n",
       "<table border=\"1\" class=\"dataframe\">\n",
       "  <thead>\n",
       "    <tr style=\"text-align: right;\">\n",
       "      <th></th>\n",
       "      <th>馬名</th>\n",
       "      <th>本賞金</th>\n",
       "    </tr>\n",
       "  </thead>\n",
       "  <tbody>\n",
       "    <tr>\n",
       "      <th>0</th>\n",
       "      <td>アーヴァイン</td>\n",
       "      <td>310</td>\n",
       "    </tr>\n",
       "    <tr>\n",
       "      <th>1</th>\n",
       "      <td>アーヴィング</td>\n",
       "      <td>0</td>\n",
       "    </tr>\n",
       "  </tbody>\n",
       "</table>\n",
       "</div>"
      ],
      "text/plain": [
       "       馬名  本賞金\n",
       "0  アーヴァイン  310\n",
       "1  アーヴィング    0"
      ]
     },
     "execution_count": 11,
     "metadata": {},
     "output_type": "execute_result"
    }
   ],
   "source": [
    "uma.head(2)"
   ]
  },
  {
   "cell_type": "code",
   "execution_count": 12,
   "id": "4c75aa37",
   "metadata": {
    "scrolled": true
   },
   "outputs": [
    {
     "data": {
      "text/plain": [
       "False"
      ]
     },
     "execution_count": 12,
     "metadata": {},
     "output_type": "execute_result"
    }
   ],
   "source": [
    "#重複を調べる\n",
    "uma['馬名'].is_unique"
   ]
  },
  {
   "cell_type": "code",
   "execution_count": 13,
   "id": "e4df268e",
   "metadata": {},
   "outputs": [],
   "source": [
    "# 特定の列においてユニークでない行を削除\n",
    "列名 = '馬名'\n",
    "uma = uma[~uma.duplicated(subset=[列名])]"
   ]
  },
  {
   "cell_type": "code",
   "execution_count": 14,
   "id": "3e592d56",
   "metadata": {},
   "outputs": [
    {
     "data": {
      "text/plain": [
       "(98370, 2)"
      ]
     },
     "execution_count": 14,
     "metadata": {},
     "output_type": "execute_result"
    }
   ],
   "source": [
    "uma.shape"
   ]
  },
  {
   "cell_type": "code",
   "execution_count": 15,
   "id": "563476ed",
   "metadata": {},
   "outputs": [
    {
     "name": "stdout",
     "output_type": "stream",
     "text": [
      "      父馬名  本賞金\n",
      "0  アーヴァイン  310\n",
      "1  アーヴィング    0\n"
     ]
    }
   ],
   "source": [
    "# '馬名'列を'父馬名'に変更\n",
    "uma.rename(columns={'馬名': '父馬名'}, inplace=True)\n",
    "\n",
    "# 結果を表示\n",
    "print(uma.head(2))"
   ]
  },
  {
   "cell_type": "code",
   "execution_count": 16,
   "id": "ca60cc45",
   "metadata": {},
   "outputs": [
    {
     "name": "stdout",
     "output_type": "stream",
     "text": [
      "      父馬名  父の賞金\n",
      "0  アーヴァイン   310\n",
      "1  アーヴィング     0\n"
     ]
    }
   ],
   "source": [
    "# '本賞金'列を'父の賞金'に変更\n",
    "uma.rename(columns={'本賞金': '父の賞金'}, inplace=True)\n",
    "\n",
    "# 結果を表示\n",
    "print(uma.head(2))"
   ]
  },
  {
   "cell_type": "code",
   "execution_count": 17,
   "id": "14cac7a3",
   "metadata": {},
   "outputs": [
    {
     "data": {
      "text/plain": [
       "(537533, 79)"
      ]
     },
     "execution_count": 17,
     "metadata": {},
     "output_type": "execute_result"
    }
   ],
   "source": [
    "import pandas as pd\n",
    "\n",
    "# 父馬名をプライマリキーとして「父の賞金」列を df に追加\n",
    "df2 = pd.merge(df, uma[['父馬名', '父の賞金']], on='父馬名', how='left')\n",
    "\n",
    "# 結果のデータフレーム df2を表示\n",
    "df2.shape"
   ]
  },
  {
   "cell_type": "code",
   "execution_count": 18,
   "id": "b93aedab",
   "metadata": {},
   "outputs": [
    {
     "data": {
      "text/html": [
       "<div>\n",
       "<style scoped>\n",
       "    .dataframe tbody tr th:only-of-type {\n",
       "        vertical-align: middle;\n",
       "    }\n",
       "\n",
       "    .dataframe tbody tr th {\n",
       "        vertical-align: top;\n",
       "    }\n",
       "\n",
       "    .dataframe thead th {\n",
       "        text-align: right;\n",
       "    }\n",
       "</style>\n",
       "<table border=\"1\" class=\"dataframe\">\n",
       "  <thead>\n",
       "    <tr style=\"text-align: right;\">\n",
       "      <th></th>\n",
       "      <th>場所</th>\n",
       "      <th>馬名</th>\n",
       "      <th>距離</th>\n",
       "      <th>走破タイム</th>\n",
       "      <th>レース番号</th>\n",
       "      <th>騎手名</th>\n",
       "      <th>斤量</th>\n",
       "      <th>馬番</th>\n",
       "      <th>馬体重</th>\n",
       "      <th>上がり3Fタイム</th>\n",
       "      <th>...</th>\n",
       "      <th>美→中山</th>\n",
       "      <th>美→京都</th>\n",
       "      <th>美→函館</th>\n",
       "      <th>美→小倉</th>\n",
       "      <th>美→新潟</th>\n",
       "      <th>美→札幌</th>\n",
       "      <th>美→東京</th>\n",
       "      <th>美→福島</th>\n",
       "      <th>美→阪神</th>\n",
       "      <th>父の賞金</th>\n",
       "    </tr>\n",
       "  </thead>\n",
       "  <tbody>\n",
       "    <tr>\n",
       "      <th>0</th>\n",
       "      <td>札幌</td>\n",
       "      <td>サンダビューク</td>\n",
       "      <td>1000</td>\n",
       "      <td>59.3</td>\n",
       "      <td>7</td>\n",
       "      <td>石川倭</td>\n",
       "      <td>58.0</td>\n",
       "      <td>6</td>\n",
       "      <td>454</td>\n",
       "      <td>35.9</td>\n",
       "      <td>...</td>\n",
       "      <td>False</td>\n",
       "      <td>False</td>\n",
       "      <td>False</td>\n",
       "      <td>False</td>\n",
       "      <td>False</td>\n",
       "      <td>True</td>\n",
       "      <td>False</td>\n",
       "      <td>False</td>\n",
       "      <td>False</td>\n",
       "      <td>NaN</td>\n",
       "    </tr>\n",
       "    <tr>\n",
       "      <th>1</th>\n",
       "      <td>札幌</td>\n",
       "      <td>フクノワカバ</td>\n",
       "      <td>1000</td>\n",
       "      <td>59.3</td>\n",
       "      <td>7</td>\n",
       "      <td>鮫島克駿</td>\n",
       "      <td>54.0</td>\n",
       "      <td>5</td>\n",
       "      <td>446</td>\n",
       "      <td>36.1</td>\n",
       "      <td>...</td>\n",
       "      <td>False</td>\n",
       "      <td>False</td>\n",
       "      <td>False</td>\n",
       "      <td>False</td>\n",
       "      <td>False</td>\n",
       "      <td>False</td>\n",
       "      <td>False</td>\n",
       "      <td>False</td>\n",
       "      <td>False</td>\n",
       "      <td>NaN</td>\n",
       "    </tr>\n",
       "    <tr>\n",
       "      <th>2</th>\n",
       "      <td>札幌</td>\n",
       "      <td>クロンヌドラレーヌ</td>\n",
       "      <td>1000</td>\n",
       "      <td>59.3</td>\n",
       "      <td>7</td>\n",
       "      <td>佐々木大</td>\n",
       "      <td>54.0</td>\n",
       "      <td>12</td>\n",
       "      <td>452</td>\n",
       "      <td>35.1</td>\n",
       "      <td>...</td>\n",
       "      <td>False</td>\n",
       "      <td>False</td>\n",
       "      <td>False</td>\n",
       "      <td>False</td>\n",
       "      <td>False</td>\n",
       "      <td>True</td>\n",
       "      <td>False</td>\n",
       "      <td>False</td>\n",
       "      <td>False</td>\n",
       "      <td>65140.0</td>\n",
       "    </tr>\n",
       "    <tr>\n",
       "      <th>3</th>\n",
       "      <td>札幌</td>\n",
       "      <td>アカザ</td>\n",
       "      <td>1000</td>\n",
       "      <td>59.4</td>\n",
       "      <td>7</td>\n",
       "      <td>鷲頭虎太</td>\n",
       "      <td>53.0</td>\n",
       "      <td>10</td>\n",
       "      <td>444</td>\n",
       "      <td>36.1</td>\n",
       "      <td>...</td>\n",
       "      <td>False</td>\n",
       "      <td>False</td>\n",
       "      <td>False</td>\n",
       "      <td>False</td>\n",
       "      <td>False</td>\n",
       "      <td>True</td>\n",
       "      <td>False</td>\n",
       "      <td>False</td>\n",
       "      <td>False</td>\n",
       "      <td>51630.0</td>\n",
       "    </tr>\n",
       "    <tr>\n",
       "      <th>4</th>\n",
       "      <td>札幌</td>\n",
       "      <td>ナムラジョシュア</td>\n",
       "      <td>1000</td>\n",
       "      <td>59.5</td>\n",
       "      <td>7</td>\n",
       "      <td>長岡禎仁</td>\n",
       "      <td>56.0</td>\n",
       "      <td>4</td>\n",
       "      <td>470</td>\n",
       "      <td>35.7</td>\n",
       "      <td>...</td>\n",
       "      <td>False</td>\n",
       "      <td>False</td>\n",
       "      <td>False</td>\n",
       "      <td>False</td>\n",
       "      <td>False</td>\n",
       "      <td>False</td>\n",
       "      <td>False</td>\n",
       "      <td>False</td>\n",
       "      <td>False</td>\n",
       "      <td>NaN</td>\n",
       "    </tr>\n",
       "    <tr>\n",
       "      <th>5</th>\n",
       "      <td>札幌</td>\n",
       "      <td>カップッチョ</td>\n",
       "      <td>1000</td>\n",
       "      <td>59.6</td>\n",
       "      <td>7</td>\n",
       "      <td>黛弘人</td>\n",
       "      <td>58.0</td>\n",
       "      <td>2</td>\n",
       "      <td>488</td>\n",
       "      <td>35.9</td>\n",
       "      <td>...</td>\n",
       "      <td>False</td>\n",
       "      <td>False</td>\n",
       "      <td>False</td>\n",
       "      <td>False</td>\n",
       "      <td>False</td>\n",
       "      <td>True</td>\n",
       "      <td>False</td>\n",
       "      <td>False</td>\n",
       "      <td>False</td>\n",
       "      <td>29535.0</td>\n",
       "    </tr>\n",
       "    <tr>\n",
       "      <th>6</th>\n",
       "      <td>札幌</td>\n",
       "      <td>グランデ</td>\n",
       "      <td>1000</td>\n",
       "      <td>59.7</td>\n",
       "      <td>7</td>\n",
       "      <td>今村聖奈</td>\n",
       "      <td>55.0</td>\n",
       "      <td>11</td>\n",
       "      <td>470</td>\n",
       "      <td>36.3</td>\n",
       "      <td>...</td>\n",
       "      <td>False</td>\n",
       "      <td>False</td>\n",
       "      <td>False</td>\n",
       "      <td>False</td>\n",
       "      <td>False</td>\n",
       "      <td>False</td>\n",
       "      <td>False</td>\n",
       "      <td>False</td>\n",
       "      <td>False</td>\n",
       "      <td>NaN</td>\n",
       "    </tr>\n",
       "  </tbody>\n",
       "</table>\n",
       "<p>7 rows × 79 columns</p>\n",
       "</div>"
      ],
      "text/plain": [
       "   場所               馬名    距離  走破タイム  レース番号   騎手名    斤量  馬番  馬体重  上がり3Fタイム  \\\n",
       "0  札幌      サンダビューク      1000   59.3      7   石川倭  58.0   6  454      35.9   \n",
       "1  札幌     フクノワカバ        1000   59.3      7  鮫島克駿  54.0   5  446      36.1   \n",
       "2  札幌        クロンヌドラレーヌ  1000   59.3      7  佐々木大  54.0  12  452      35.1   \n",
       "3  札幌  アカザ              1000   59.4      7  鷲頭虎太  53.0  10  444      36.1   \n",
       "4  札幌       ナムラジョシュア    1000   59.5      7  長岡禎仁  56.0   4  470      35.7   \n",
       "5  札幌     カップッチョ        1000   59.6      7   黛弘人  58.0   2  488      35.9   \n",
       "6  札幌   グランデ            1000   59.7      7  今村聖奈  55.0  11  470      36.3   \n",
       "\n",
       "   ...   美→中山   美→京都   美→函館   美→小倉   美→新潟   美→札幌   美→東京   美→福島   美→阪神     父の賞金  \n",
       "0  ...  False  False  False  False  False   True  False  False  False      NaN  \n",
       "1  ...  False  False  False  False  False  False  False  False  False      NaN  \n",
       "2  ...  False  False  False  False  False   True  False  False  False  65140.0  \n",
       "3  ...  False  False  False  False  False   True  False  False  False  51630.0  \n",
       "4  ...  False  False  False  False  False  False  False  False  False      NaN  \n",
       "5  ...  False  False  False  False  False   True  False  False  False  29535.0  \n",
       "6  ...  False  False  False  False  False  False  False  False  False      NaN  \n",
       "\n",
       "[7 rows x 79 columns]"
      ]
     },
     "execution_count": 18,
     "metadata": {},
     "output_type": "execute_result"
    }
   ],
   "source": [
    "df2.head(7)"
   ]
  },
  {
   "cell_type": "code",
   "execution_count": 19,
   "id": "0781cd1b",
   "metadata": {},
   "outputs": [
    {
     "data": {
      "text/plain": [
       "父の賞金\n",
       "38400.0    9291\n",
       "94540.0    5426\n",
       "53720.0    4749\n",
       "76720.0    4388\n",
       "42060.0    3763\n",
       "           ... \n",
       "2930.0        1\n",
       "23220.0       1\n",
       "21210.0       1\n",
       "24360.0       1\n",
       "4505.0        1\n",
       "Name: count, Length: 269, dtype: int64"
      ]
     },
     "execution_count": 19,
     "metadata": {},
     "output_type": "execute_result"
    }
   ],
   "source": [
    "#最頻値\n",
    "df2['父の賞金'].value_counts()"
   ]
  },
  {
   "cell_type": "code",
   "execution_count": 20,
   "id": "0fa235fb",
   "metadata": {},
   "outputs": [
    {
     "data": {
      "text/plain": [
       "423044"
      ]
     },
     "execution_count": 20,
     "metadata": {},
     "output_type": "execute_result"
    }
   ],
   "source": [
    "#NaNの数\n",
    "df2['父の賞金'].isna().sum()"
   ]
  },
  {
   "cell_type": "code",
   "execution_count": 21,
   "id": "2763d192",
   "metadata": {},
   "outputs": [
    {
     "name": "stdout",
     "output_type": "stream",
     "text": [
      "      母馬名  母の賞金\n",
      "0  アーヴァイン   310\n",
      "1  アーヴィング     0\n"
     ]
    }
   ],
   "source": [
    "#同様に、'母馬名',も数値化する\n",
    "\n",
    "# '父馬名'列を'母馬名'に変更\n",
    "uma.rename(columns={'父馬名': '母馬名'}, inplace=True)\n",
    "\n",
    "# '父の賞金'列を'母の賞金列'に変更\n",
    "uma.rename(columns={'父の賞金': '母の賞金'}, inplace=True)\n",
    "\n",
    "# 結果を表示\n",
    "print(uma.head(2))"
   ]
  },
  {
   "cell_type": "code",
   "execution_count": 22,
   "id": "6611c12b",
   "metadata": {},
   "outputs": [
    {
     "data": {
      "text/html": [
       "<div>\n",
       "<style scoped>\n",
       "    .dataframe tbody tr th:only-of-type {\n",
       "        vertical-align: middle;\n",
       "    }\n",
       "\n",
       "    .dataframe tbody tr th {\n",
       "        vertical-align: top;\n",
       "    }\n",
       "\n",
       "    .dataframe thead th {\n",
       "        text-align: right;\n",
       "    }\n",
       "</style>\n",
       "<table border=\"1\" class=\"dataframe\">\n",
       "  <thead>\n",
       "    <tr style=\"text-align: right;\">\n",
       "      <th></th>\n",
       "      <th>場所</th>\n",
       "      <th>馬名</th>\n",
       "      <th>距離</th>\n",
       "      <th>走破タイム</th>\n",
       "      <th>レース番号</th>\n",
       "      <th>騎手名</th>\n",
       "      <th>斤量</th>\n",
       "      <th>馬番</th>\n",
       "      <th>馬体重</th>\n",
       "      <th>上がり3Fタイム</th>\n",
       "      <th>...</th>\n",
       "      <th>美→京都</th>\n",
       "      <th>美→函館</th>\n",
       "      <th>美→小倉</th>\n",
       "      <th>美→新潟</th>\n",
       "      <th>美→札幌</th>\n",
       "      <th>美→東京</th>\n",
       "      <th>美→福島</th>\n",
       "      <th>美→阪神</th>\n",
       "      <th>父の賞金</th>\n",
       "      <th>母の賞金</th>\n",
       "    </tr>\n",
       "  </thead>\n",
       "  <tbody>\n",
       "    <tr>\n",
       "      <th>0</th>\n",
       "      <td>札幌</td>\n",
       "      <td>サンダビューク</td>\n",
       "      <td>1000</td>\n",
       "      <td>59.3</td>\n",
       "      <td>7</td>\n",
       "      <td>石川倭</td>\n",
       "      <td>58.0</td>\n",
       "      <td>6</td>\n",
       "      <td>454</td>\n",
       "      <td>35.9</td>\n",
       "      <td>...</td>\n",
       "      <td>False</td>\n",
       "      <td>False</td>\n",
       "      <td>False</td>\n",
       "      <td>False</td>\n",
       "      <td>True</td>\n",
       "      <td>False</td>\n",
       "      <td>False</td>\n",
       "      <td>False</td>\n",
       "      <td>NaN</td>\n",
       "      <td>NaN</td>\n",
       "    </tr>\n",
       "    <tr>\n",
       "      <th>1</th>\n",
       "      <td>札幌</td>\n",
       "      <td>フクノワカバ</td>\n",
       "      <td>1000</td>\n",
       "      <td>59.3</td>\n",
       "      <td>7</td>\n",
       "      <td>鮫島克駿</td>\n",
       "      <td>54.0</td>\n",
       "      <td>5</td>\n",
       "      <td>446</td>\n",
       "      <td>36.1</td>\n",
       "      <td>...</td>\n",
       "      <td>False</td>\n",
       "      <td>False</td>\n",
       "      <td>False</td>\n",
       "      <td>False</td>\n",
       "      <td>False</td>\n",
       "      <td>False</td>\n",
       "      <td>False</td>\n",
       "      <td>False</td>\n",
       "      <td>NaN</td>\n",
       "      <td>3665.0</td>\n",
       "    </tr>\n",
       "    <tr>\n",
       "      <th>2</th>\n",
       "      <td>札幌</td>\n",
       "      <td>クロンヌドラレーヌ</td>\n",
       "      <td>1000</td>\n",
       "      <td>59.3</td>\n",
       "      <td>7</td>\n",
       "      <td>佐々木大</td>\n",
       "      <td>54.0</td>\n",
       "      <td>12</td>\n",
       "      <td>452</td>\n",
       "      <td>35.1</td>\n",
       "      <td>...</td>\n",
       "      <td>False</td>\n",
       "      <td>False</td>\n",
       "      <td>False</td>\n",
       "      <td>False</td>\n",
       "      <td>True</td>\n",
       "      <td>False</td>\n",
       "      <td>False</td>\n",
       "      <td>False</td>\n",
       "      <td>65140.0</td>\n",
       "      <td>14376.0</td>\n",
       "    </tr>\n",
       "    <tr>\n",
       "      <th>3</th>\n",
       "      <td>札幌</td>\n",
       "      <td>アカザ</td>\n",
       "      <td>1000</td>\n",
       "      <td>59.4</td>\n",
       "      <td>7</td>\n",
       "      <td>鷲頭虎太</td>\n",
       "      <td>53.0</td>\n",
       "      <td>10</td>\n",
       "      <td>444</td>\n",
       "      <td>36.1</td>\n",
       "      <td>...</td>\n",
       "      <td>False</td>\n",
       "      <td>False</td>\n",
       "      <td>False</td>\n",
       "      <td>False</td>\n",
       "      <td>True</td>\n",
       "      <td>False</td>\n",
       "      <td>False</td>\n",
       "      <td>False</td>\n",
       "      <td>51630.0</td>\n",
       "      <td>NaN</td>\n",
       "    </tr>\n",
       "    <tr>\n",
       "      <th>4</th>\n",
       "      <td>札幌</td>\n",
       "      <td>ナムラジョシュア</td>\n",
       "      <td>1000</td>\n",
       "      <td>59.5</td>\n",
       "      <td>7</td>\n",
       "      <td>長岡禎仁</td>\n",
       "      <td>56.0</td>\n",
       "      <td>4</td>\n",
       "      <td>470</td>\n",
       "      <td>35.7</td>\n",
       "      <td>...</td>\n",
       "      <td>False</td>\n",
       "      <td>False</td>\n",
       "      <td>False</td>\n",
       "      <td>False</td>\n",
       "      <td>False</td>\n",
       "      <td>False</td>\n",
       "      <td>False</td>\n",
       "      <td>False</td>\n",
       "      <td>NaN</td>\n",
       "      <td>336.0</td>\n",
       "    </tr>\n",
       "    <tr>\n",
       "      <th>5</th>\n",
       "      <td>札幌</td>\n",
       "      <td>カップッチョ</td>\n",
       "      <td>1000</td>\n",
       "      <td>59.6</td>\n",
       "      <td>7</td>\n",
       "      <td>黛弘人</td>\n",
       "      <td>58.0</td>\n",
       "      <td>2</td>\n",
       "      <td>488</td>\n",
       "      <td>35.9</td>\n",
       "      <td>...</td>\n",
       "      <td>False</td>\n",
       "      <td>False</td>\n",
       "      <td>False</td>\n",
       "      <td>False</td>\n",
       "      <td>True</td>\n",
       "      <td>False</td>\n",
       "      <td>False</td>\n",
       "      <td>False</td>\n",
       "      <td>29535.0</td>\n",
       "      <td>NaN</td>\n",
       "    </tr>\n",
       "    <tr>\n",
       "      <th>6</th>\n",
       "      <td>札幌</td>\n",
       "      <td>グランデ</td>\n",
       "      <td>1000</td>\n",
       "      <td>59.7</td>\n",
       "      <td>7</td>\n",
       "      <td>今村聖奈</td>\n",
       "      <td>55.0</td>\n",
       "      <td>11</td>\n",
       "      <td>470</td>\n",
       "      <td>36.3</td>\n",
       "      <td>...</td>\n",
       "      <td>False</td>\n",
       "      <td>False</td>\n",
       "      <td>False</td>\n",
       "      <td>False</td>\n",
       "      <td>False</td>\n",
       "      <td>False</td>\n",
       "      <td>False</td>\n",
       "      <td>False</td>\n",
       "      <td>NaN</td>\n",
       "      <td>380.0</td>\n",
       "    </tr>\n",
       "  </tbody>\n",
       "</table>\n",
       "<p>7 rows × 80 columns</p>\n",
       "</div>"
      ],
      "text/plain": [
       "   場所               馬名    距離  走破タイム  レース番号   騎手名    斤量  馬番  馬体重  上がり3Fタイム  \\\n",
       "0  札幌      サンダビューク      1000   59.3      7   石川倭  58.0   6  454      35.9   \n",
       "1  札幌     フクノワカバ        1000   59.3      7  鮫島克駿  54.0   5  446      36.1   \n",
       "2  札幌        クロンヌドラレーヌ  1000   59.3      7  佐々木大  54.0  12  452      35.1   \n",
       "3  札幌  アカザ              1000   59.4      7  鷲頭虎太  53.0  10  444      36.1   \n",
       "4  札幌       ナムラジョシュア    1000   59.5      7  長岡禎仁  56.0   4  470      35.7   \n",
       "5  札幌     カップッチョ        1000   59.6      7   黛弘人  58.0   2  488      35.9   \n",
       "6  札幌   グランデ            1000   59.7      7  今村聖奈  55.0  11  470      36.3   \n",
       "\n",
       "   ...   美→京都   美→函館   美→小倉   美→新潟   美→札幌   美→東京   美→福島   美→阪神     父の賞金  \\\n",
       "0  ...  False  False  False  False   True  False  False  False      NaN   \n",
       "1  ...  False  False  False  False  False  False  False  False      NaN   \n",
       "2  ...  False  False  False  False   True  False  False  False  65140.0   \n",
       "3  ...  False  False  False  False   True  False  False  False  51630.0   \n",
       "4  ...  False  False  False  False  False  False  False  False      NaN   \n",
       "5  ...  False  False  False  False   True  False  False  False  29535.0   \n",
       "6  ...  False  False  False  False  False  False  False  False      NaN   \n",
       "\n",
       "      母の賞金  \n",
       "0      NaN  \n",
       "1   3665.0  \n",
       "2  14376.0  \n",
       "3      NaN  \n",
       "4    336.0  \n",
       "5      NaN  \n",
       "6    380.0  \n",
       "\n",
       "[7 rows x 80 columns]"
      ]
     },
     "execution_count": 22,
     "metadata": {},
     "output_type": "execute_result"
    }
   ],
   "source": [
    "# 母馬名をプライマリキーとして「父の賞金」列を df に追加\n",
    "df2 = pd.merge(df2, uma[['母馬名', '母の賞金']], on='母馬名', how='left')\n",
    "\n",
    "# 結果のデータフレーム df2を表示\n",
    "df2.head(7)"
   ]
  },
  {
   "cell_type": "code",
   "execution_count": 23,
   "id": "6ebdc5a4",
   "metadata": {},
   "outputs": [
    {
     "data": {
      "text/plain": [
       "母の賞金\n",
       "0.0       41167\n",
       "50.0       2990\n",
       "700.0      2905\n",
       "180.0      1700\n",
       "75.0       1679\n",
       "          ...  \n",
       "1295.0        1\n",
       "4765.0        1\n",
       "4960.0        1\n",
       "3824.0        1\n",
       "6251.0        1\n",
       "Name: count, Length: 2822, dtype: int64"
      ]
     },
     "execution_count": 23,
     "metadata": {},
     "output_type": "execute_result"
    }
   ],
   "source": [
    "#最頻値\n",
    "df2['母の賞金'].value_counts()"
   ]
  },
  {
   "cell_type": "code",
   "execution_count": 24,
   "id": "559c6eb7",
   "metadata": {},
   "outputs": [
    {
     "data": {
      "text/plain": [
       "375849"
      ]
     },
     "execution_count": 24,
     "metadata": {},
     "output_type": "execute_result"
    }
   ],
   "source": [
    "#NaNの数\n",
    "df2['母の賞金'].isna().sum()"
   ]
  },
  {
   "cell_type": "code",
   "execution_count": 25,
   "id": "92986e12",
   "metadata": {},
   "outputs": [
    {
     "name": "stdout",
     "output_type": "stream",
     "text": [
      "    母の父馬名  母父の賞金\n",
      "0  アーヴァイン    310\n",
      "1  アーヴィング      0\n"
     ]
    }
   ],
   "source": [
    "#同様に、'母の父馬名'も数値化する\n",
    "\n",
    "# '母馬名'列を'母の父馬名'に変更\n",
    "uma.rename(columns={'母馬名': '母の父馬名'}, inplace=True)\n",
    "\n",
    "# '母の賞金'列を'母父の賞金列'に変更\n",
    "uma.rename(columns={'母の賞金': '母父の賞金'}, inplace=True)\n",
    "\n",
    "# 結果を表示\n",
    "print(uma.head(2))"
   ]
  },
  {
   "cell_type": "code",
   "execution_count": 26,
   "id": "16786218",
   "metadata": {
    "scrolled": true
   },
   "outputs": [
    {
     "data": {
      "text/html": [
       "<div>\n",
       "<style scoped>\n",
       "    .dataframe tbody tr th:only-of-type {\n",
       "        vertical-align: middle;\n",
       "    }\n",
       "\n",
       "    .dataframe tbody tr th {\n",
       "        vertical-align: top;\n",
       "    }\n",
       "\n",
       "    .dataframe thead th {\n",
       "        text-align: right;\n",
       "    }\n",
       "</style>\n",
       "<table border=\"1\" class=\"dataframe\">\n",
       "  <thead>\n",
       "    <tr style=\"text-align: right;\">\n",
       "      <th></th>\n",
       "      <th>場所</th>\n",
       "      <th>馬名</th>\n",
       "      <th>距離</th>\n",
       "      <th>走破タイム</th>\n",
       "      <th>レース番号</th>\n",
       "      <th>騎手名</th>\n",
       "      <th>斤量</th>\n",
       "      <th>馬番</th>\n",
       "      <th>馬体重</th>\n",
       "      <th>上がり3Fタイム</th>\n",
       "      <th>...</th>\n",
       "      <th>美→函館</th>\n",
       "      <th>美→小倉</th>\n",
       "      <th>美→新潟</th>\n",
       "      <th>美→札幌</th>\n",
       "      <th>美→東京</th>\n",
       "      <th>美→福島</th>\n",
       "      <th>美→阪神</th>\n",
       "      <th>父の賞金</th>\n",
       "      <th>母の賞金</th>\n",
       "      <th>母父の賞金</th>\n",
       "    </tr>\n",
       "  </thead>\n",
       "  <tbody>\n",
       "    <tr>\n",
       "      <th>0</th>\n",
       "      <td>札幌</td>\n",
       "      <td>サンダビューク</td>\n",
       "      <td>1000</td>\n",
       "      <td>59.3</td>\n",
       "      <td>7</td>\n",
       "      <td>石川倭</td>\n",
       "      <td>58.0</td>\n",
       "      <td>6</td>\n",
       "      <td>454</td>\n",
       "      <td>35.9</td>\n",
       "      <td>...</td>\n",
       "      <td>False</td>\n",
       "      <td>False</td>\n",
       "      <td>False</td>\n",
       "      <td>True</td>\n",
       "      <td>False</td>\n",
       "      <td>False</td>\n",
       "      <td>False</td>\n",
       "      <td>NaN</td>\n",
       "      <td>NaN</td>\n",
       "      <td>NaN</td>\n",
       "    </tr>\n",
       "    <tr>\n",
       "      <th>1</th>\n",
       "      <td>札幌</td>\n",
       "      <td>フクノワカバ</td>\n",
       "      <td>1000</td>\n",
       "      <td>59.3</td>\n",
       "      <td>7</td>\n",
       "      <td>鮫島克駿</td>\n",
       "      <td>54.0</td>\n",
       "      <td>5</td>\n",
       "      <td>446</td>\n",
       "      <td>36.1</td>\n",
       "      <td>...</td>\n",
       "      <td>False</td>\n",
       "      <td>False</td>\n",
       "      <td>False</td>\n",
       "      <td>False</td>\n",
       "      <td>False</td>\n",
       "      <td>False</td>\n",
       "      <td>False</td>\n",
       "      <td>NaN</td>\n",
       "      <td>3665.0</td>\n",
       "      <td>94540.0</td>\n",
       "    </tr>\n",
       "    <tr>\n",
       "      <th>2</th>\n",
       "      <td>札幌</td>\n",
       "      <td>クロンヌドラレーヌ</td>\n",
       "      <td>1000</td>\n",
       "      <td>59.3</td>\n",
       "      <td>7</td>\n",
       "      <td>佐々木大</td>\n",
       "      <td>54.0</td>\n",
       "      <td>12</td>\n",
       "      <td>452</td>\n",
       "      <td>35.1</td>\n",
       "      <td>...</td>\n",
       "      <td>False</td>\n",
       "      <td>False</td>\n",
       "      <td>False</td>\n",
       "      <td>True</td>\n",
       "      <td>False</td>\n",
       "      <td>False</td>\n",
       "      <td>False</td>\n",
       "      <td>65140.0</td>\n",
       "      <td>14376.0</td>\n",
       "      <td>NaN</td>\n",
       "    </tr>\n",
       "    <tr>\n",
       "      <th>3</th>\n",
       "      <td>札幌</td>\n",
       "      <td>アカザ</td>\n",
       "      <td>1000</td>\n",
       "      <td>59.4</td>\n",
       "      <td>7</td>\n",
       "      <td>鷲頭虎太</td>\n",
       "      <td>53.0</td>\n",
       "      <td>10</td>\n",
       "      <td>444</td>\n",
       "      <td>36.1</td>\n",
       "      <td>...</td>\n",
       "      <td>False</td>\n",
       "      <td>False</td>\n",
       "      <td>False</td>\n",
       "      <td>True</td>\n",
       "      <td>False</td>\n",
       "      <td>False</td>\n",
       "      <td>False</td>\n",
       "      <td>51630.0</td>\n",
       "      <td>NaN</td>\n",
       "      <td>NaN</td>\n",
       "    </tr>\n",
       "    <tr>\n",
       "      <th>4</th>\n",
       "      <td>札幌</td>\n",
       "      <td>ナムラジョシュア</td>\n",
       "      <td>1000</td>\n",
       "      <td>59.5</td>\n",
       "      <td>7</td>\n",
       "      <td>長岡禎仁</td>\n",
       "      <td>56.0</td>\n",
       "      <td>4</td>\n",
       "      <td>470</td>\n",
       "      <td>35.7</td>\n",
       "      <td>...</td>\n",
       "      <td>False</td>\n",
       "      <td>False</td>\n",
       "      <td>False</td>\n",
       "      <td>False</td>\n",
       "      <td>False</td>\n",
       "      <td>False</td>\n",
       "      <td>False</td>\n",
       "      <td>NaN</td>\n",
       "      <td>336.0</td>\n",
       "      <td>NaN</td>\n",
       "    </tr>\n",
       "    <tr>\n",
       "      <th>5</th>\n",
       "      <td>札幌</td>\n",
       "      <td>カップッチョ</td>\n",
       "      <td>1000</td>\n",
       "      <td>59.6</td>\n",
       "      <td>7</td>\n",
       "      <td>黛弘人</td>\n",
       "      <td>58.0</td>\n",
       "      <td>2</td>\n",
       "      <td>488</td>\n",
       "      <td>35.9</td>\n",
       "      <td>...</td>\n",
       "      <td>False</td>\n",
       "      <td>False</td>\n",
       "      <td>False</td>\n",
       "      <td>True</td>\n",
       "      <td>False</td>\n",
       "      <td>False</td>\n",
       "      <td>False</td>\n",
       "      <td>29535.0</td>\n",
       "      <td>NaN</td>\n",
       "      <td>NaN</td>\n",
       "    </tr>\n",
       "    <tr>\n",
       "      <th>6</th>\n",
       "      <td>札幌</td>\n",
       "      <td>グランデ</td>\n",
       "      <td>1000</td>\n",
       "      <td>59.7</td>\n",
       "      <td>7</td>\n",
       "      <td>今村聖奈</td>\n",
       "      <td>55.0</td>\n",
       "      <td>11</td>\n",
       "      <td>470</td>\n",
       "      <td>36.3</td>\n",
       "      <td>...</td>\n",
       "      <td>False</td>\n",
       "      <td>False</td>\n",
       "      <td>False</td>\n",
       "      <td>False</td>\n",
       "      <td>False</td>\n",
       "      <td>False</td>\n",
       "      <td>False</td>\n",
       "      <td>NaN</td>\n",
       "      <td>380.0</td>\n",
       "      <td>NaN</td>\n",
       "    </tr>\n",
       "  </tbody>\n",
       "</table>\n",
       "<p>7 rows × 81 columns</p>\n",
       "</div>"
      ],
      "text/plain": [
       "   場所               馬名    距離  走破タイム  レース番号   騎手名    斤量  馬番  馬体重  上がり3Fタイム  \\\n",
       "0  札幌      サンダビューク      1000   59.3      7   石川倭  58.0   6  454      35.9   \n",
       "1  札幌     フクノワカバ        1000   59.3      7  鮫島克駿  54.0   5  446      36.1   \n",
       "2  札幌        クロンヌドラレーヌ  1000   59.3      7  佐々木大  54.0  12  452      35.1   \n",
       "3  札幌  アカザ              1000   59.4      7  鷲頭虎太  53.0  10  444      36.1   \n",
       "4  札幌       ナムラジョシュア    1000   59.5      7  長岡禎仁  56.0   4  470      35.7   \n",
       "5  札幌     カップッチョ        1000   59.6      7   黛弘人  58.0   2  488      35.9   \n",
       "6  札幌   グランデ            1000   59.7      7  今村聖奈  55.0  11  470      36.3   \n",
       "\n",
       "   ...   美→函館   美→小倉   美→新潟   美→札幌   美→東京   美→福島   美→阪神     父の賞金     母の賞金  \\\n",
       "0  ...  False  False  False   True  False  False  False      NaN      NaN   \n",
       "1  ...  False  False  False  False  False  False  False      NaN   3665.0   \n",
       "2  ...  False  False  False   True  False  False  False  65140.0  14376.0   \n",
       "3  ...  False  False  False   True  False  False  False  51630.0      NaN   \n",
       "4  ...  False  False  False  False  False  False  False      NaN    336.0   \n",
       "5  ...  False  False  False   True  False  False  False  29535.0      NaN   \n",
       "6  ...  False  False  False  False  False  False  False      NaN    380.0   \n",
       "\n",
       "     母父の賞金  \n",
       "0      NaN  \n",
       "1  94540.0  \n",
       "2      NaN  \n",
       "3      NaN  \n",
       "4      NaN  \n",
       "5      NaN  \n",
       "6      NaN  \n",
       "\n",
       "[7 rows x 81 columns]"
      ]
     },
     "execution_count": 26,
     "metadata": {},
     "output_type": "execute_result"
    }
   ],
   "source": [
    "# 母の父馬名をプライマリキーとして「母父の賞金」列を df に追加\n",
    "df2 = pd.merge(df2, uma[['母の父馬名', '母父の賞金']], on='母の父馬名', how='left')\n",
    "\n",
    "# 結果のデータフレーム df2を表示\n",
    "df2.head(7)"
   ]
  },
  {
   "cell_type": "code",
   "execution_count": 27,
   "id": "aa295466",
   "metadata": {},
   "outputs": [
    {
     "data": {
      "text/plain": [
       "母父の賞金\n",
       "38400.0     5300\n",
       "132400.0    2767\n",
       "94540.0     1467\n",
       "53720.0     1277\n",
       "72800.0     1191\n",
       "            ... \n",
       "47100.0        2\n",
       "590.0          2\n",
       "52200.0        1\n",
       "3600.0         1\n",
       "30320.0        1\n",
       "Name: count, Length: 67, dtype: int64"
      ]
     },
     "execution_count": 27,
     "metadata": {},
     "output_type": "execute_result"
    }
   ],
   "source": [
    "#最頻値\n",
    "df2['母父の賞金'].value_counts()"
   ]
  },
  {
   "cell_type": "code",
   "execution_count": 28,
   "id": "e89d3d00",
   "metadata": {},
   "outputs": [
    {
     "data": {
      "text/plain": [
       "521524"
      ]
     },
     "execution_count": 28,
     "metadata": {},
     "output_type": "execute_result"
    }
   ],
   "source": [
    "#NaNの数\n",
    "df2['母父の賞金'].isna().sum()"
   ]
  },
  {
   "cell_type": "code",
   "execution_count": 29,
   "id": "10cfd115",
   "metadata": {},
   "outputs": [
    {
     "data": {
      "text/plain": [
       "(537533, 78)"
      ]
     },
     "execution_count": 29,
     "metadata": {},
     "output_type": "execute_result"
    }
   ],
   "source": [
    "# '父馬名''母馬名' '母の父馬名'を削除\n",
    "df2 = df2.drop(['父馬名','母馬名', '母の父馬名'], axis=1)\n",
    "df2.shape"
   ]
  },
  {
   "cell_type": "markdown",
   "id": "3cf40ac2",
   "metadata": {},
   "source": [
    "# 調教師名を数値化（生涯1着数）"
   ]
  },
  {
   "cell_type": "code",
   "execution_count": 30,
   "id": "05478200",
   "metadata": {},
   "outputs": [],
   "source": [
    "# ｄｆとして保存済みの「調教師」データを読み込む\n",
    "tyokyoshi = pd.read_pickle('調教師.pkl')"
   ]
  },
  {
   "cell_type": "code",
   "execution_count": 31,
   "id": "187b5636",
   "metadata": {},
   "outputs": [
    {
     "data": {
      "text/plain": [
       "<bound method DataFrame.info of       順位 名前(ターゲット内表記) フルネーム(JRA-VANデータ内表記)  読み(半角仮名/欧字)               欧字表記名  \\\n",
       "0      1         和田勇介                和田 勇介     ﾜﾀﾞ ﾕｳｽｹ         Yusuke Wada   \n",
       "1      2         和田雄二                和田 雄二     ﾜﾀﾞ ﾕｳｼﾞ           Yuji Wada   \n",
       "2      3         和田正一               和田 正一郎  ﾜﾀﾞ ｼｮｳｲﾁﾛｳ      Shoichiro Wada   \n",
       "3      4         矢野英一                矢野 英一      ﾔﾉ ｴｲｲﾁ         Eiichi Yano   \n",
       "4      5         矢嶋大樹                矢嶋 大樹    ﾔｼﾞﾏ ﾀﾞｲｷ        Daiki Yajima   \n",
       "..   ...          ...                  ...          ...                 ...   \n",
       "191  192         鮫島克也                鮫島 克也     ｻﾒｼﾏ ｶﾂﾔ   Katsuya Sameshima   \n",
       "192  193         九日俊光                九日 俊光     ｸﾆﾁ ﾄｼﾐﾂ  Toshimitsu Kunichi   \n",
       "193  194         北村欣也                北村 欣也     ｷﾀﾑﾗ ｷﾝﾔ      Kinya Kitamura   \n",
       "194  195         川田孝好                川田 孝好    ｶﾜﾀﾞ ﾀｶﾖｼ    Takayoshi Kawada   \n",
       "195  196         角川秀樹                角川 秀樹   ｶｸｶﾞﾜ ﾋﾃﾞｷ     Hideki Kakugawa   \n",
       "\n",
       "     所属  年齢         誕生日   免許取得年  キャリア  ... 生涯連対率  生涯複勝率   コード  現役・抹消  チェック  \\\n",
       "0    美浦  43  1980. 3. 4  2017.0   8.0  ...  13.2   20.3  1165     現役     0   \n",
       "1    美浦  54  1969. 8.14  2013.0  12.0  ...   8.6   13.6  1143     現役     0   \n",
       "2    美浦  49  1974.10. 3  2009.0  16.0  ...  12.0   18.3  1114     現役     0   \n",
       "3    美浦  53  1970. 2.24  2008.0  17.0  ...  13.7   21.6  1108     現役     0   \n",
       "4    美浦  44  1979. 8. 2  2023.0   2.0  ...   NaN    NaN  1202     現役     0   \n",
       "..   ..  ..         ...     ...   ...  ...   ...    ...   ...    ...   ...   \n",
       "191  地方  60  1963. 1.30     NaN   NaN  ...   NaN    NaN  5771    NaN     0   \n",
       "192  地方  63  1960. 2. 2     NaN   NaN  ...   4.5    4.5  5005    NaN     0   \n",
       "193  地方  59  1964. 9. 5     NaN   NaN  ...   NaN    NaN  5770    NaN     0   \n",
       "194  地方  67  1956.10.15     NaN   NaN  ...   0.0    0.0  5450    NaN     0   \n",
       "195  地方  64  1959.12.12     NaN   NaN  ...   4.1    5.8  5311    NaN     0   \n",
       "\n",
       "     勝数前年比  総レース数前年比  コメント  本年順位(平地) 前年順位(平地)  \n",
       "0      0.0       0.0   NaN       NaN     45.0  \n",
       "1      0.0       0.0   NaN       NaN    171.0  \n",
       "2      0.0       0.0   NaN       NaN    125.0  \n",
       "3      0.0       0.0   NaN       NaN    121.0  \n",
       "4      NaN       NaN   NaN       NaN      NaN  \n",
       "..     ...       ...   ...       ...      ...  \n",
       "191    NaN       NaN   NaN       NaN      NaN  \n",
       "192    NaN       NaN   NaN       NaN      NaN  \n",
       "193    NaN       NaN   NaN       NaN      NaN  \n",
       "194    NaN       NaN   NaN       NaN      NaN  \n",
       "195    NaN       NaN   NaN       NaN      NaN  \n",
       "\n",
       "[196 rows x 45 columns]>"
      ]
     },
     "execution_count": 31,
     "metadata": {},
     "output_type": "execute_result"
    }
   ],
   "source": [
    "tyokyoshi.info"
   ]
  },
  {
   "cell_type": "code",
   "execution_count": 32,
   "id": "a9ff4b3c",
   "metadata": {
    "scrolled": true
   },
   "outputs": [
    {
     "name": "stdout",
     "output_type": "stream",
     "text": [
      "['順位', '名前(ターゲット内表記)', 'フルネーム(JRA-VANデータ内表記)', '読み(半角仮名/欧字)', '欧字表記名', '所属', '年齢', '誕生日', '免許取得年', 'キャリア', '本年着度数', '1着数', '2着数', '3着数', '着外数', '総数', '勝率', '連対率', '複勝率', '前年着度数', '前年1着', '前年2着', '前年3着', '前年着外', '前年総数', '前年勝率', '前年連対率', '前年複勝率', '生涯着度数', '生涯1着', '生涯2着', '生涯3着', '生涯着外', '生涯総数', '生涯勝率', '生涯連対率', '生涯複勝率', 'コード', '現役・抹消', 'チェック', '勝数前年比', '総レース数前年比', 'コメント', '本年順位(平地)', '前年順位(平地)']\n"
     ]
    }
   ],
   "source": [
    "#コラムを確認\n",
    "print(tyokyoshi.columns.to_list())"
   ]
  },
  {
   "cell_type": "code",
   "execution_count": 33,
   "id": "013b9932",
   "metadata": {},
   "outputs": [
    {
     "data": {
      "text/plain": [
       "True"
      ]
     },
     "execution_count": 33,
     "metadata": {},
     "output_type": "execute_result"
    }
   ],
   "source": [
    "#重複を調べる\n",
    "tyokyoshi['名前(ターゲット内表記)'].is_unique"
   ]
  },
  {
   "cell_type": "code",
   "execution_count": 34,
   "id": "e655ce44",
   "metadata": {},
   "outputs": [
    {
     "data": {
      "text/html": [
       "<div>\n",
       "<style scoped>\n",
       "    .dataframe tbody tr th:only-of-type {\n",
       "        vertical-align: middle;\n",
       "    }\n",
       "\n",
       "    .dataframe tbody tr th {\n",
       "        vertical-align: top;\n",
       "    }\n",
       "\n",
       "    .dataframe thead th {\n",
       "        text-align: right;\n",
       "    }\n",
       "</style>\n",
       "<table border=\"1\" class=\"dataframe\">\n",
       "  <thead>\n",
       "    <tr style=\"text-align: right;\">\n",
       "      <th></th>\n",
       "      <th>名前(ターゲット内表記)</th>\n",
       "      <th>生涯1着</th>\n",
       "    </tr>\n",
       "  </thead>\n",
       "  <tbody>\n",
       "    <tr>\n",
       "      <th>0</th>\n",
       "      <td>和田勇介</td>\n",
       "      <td>79</td>\n",
       "    </tr>\n",
       "    <tr>\n",
       "      <th>1</th>\n",
       "      <td>和田雄二</td>\n",
       "      <td>109</td>\n",
       "    </tr>\n",
       "    <tr>\n",
       "      <th>2</th>\n",
       "      <td>和田正一</td>\n",
       "      <td>207</td>\n",
       "    </tr>\n",
       "    <tr>\n",
       "      <th>3</th>\n",
       "      <td>矢野英一</td>\n",
       "      <td>259</td>\n",
       "    </tr>\n",
       "    <tr>\n",
       "      <th>4</th>\n",
       "      <td>矢嶋大樹</td>\n",
       "      <td>0</td>\n",
       "    </tr>\n",
       "    <tr>\n",
       "      <th>5</th>\n",
       "      <td>森一誠</td>\n",
       "      <td>0</td>\n",
       "    </tr>\n",
       "    <tr>\n",
       "      <th>6</th>\n",
       "      <td>村田一誠</td>\n",
       "      <td>10</td>\n",
       "    </tr>\n",
       "  </tbody>\n",
       "</table>\n",
       "</div>"
      ],
      "text/plain": [
       "  名前(ターゲット内表記)  生涯1着\n",
       "0         和田勇介    79\n",
       "1         和田雄二   109\n",
       "2         和田正一   207\n",
       "3         矢野英一   259\n",
       "4         矢嶋大樹     0\n",
       "5         森一誠　     0\n",
       "6         村田一誠    10"
      ]
     },
     "execution_count": 34,
     "metadata": {},
     "output_type": "execute_result"
    }
   ],
   "source": [
    "#データフレームtyokyoshiを必要な列だけのdfにする\n",
    "tyokyoshi=tyokyoshi[['名前(ターゲット内表記)','生涯1着']]\n",
    "tyokyoshi.head(7)"
   ]
  },
  {
   "cell_type": "code",
   "execution_count": 35,
   "id": "8a68f9b6",
   "metadata": {},
   "outputs": [
    {
     "name": "stdout",
     "output_type": "stream",
     "text": [
      "    調教師  調教師点\n",
      "0  和田勇介    79\n",
      "1  和田雄二   109\n"
     ]
    },
    {
     "name": "stderr",
     "output_type": "stream",
     "text": [
      "C:\\Users\\newpc\\AppData\\Local\\Temp\\ipykernel_14728\\654854529.py:2: SettingWithCopyWarning: \n",
      "A value is trying to be set on a copy of a slice from a DataFrame\n",
      "\n",
      "See the caveats in the documentation: https://pandas.pydata.org/pandas-docs/stable/user_guide/indexing.html#returning-a-view-versus-a-copy\n",
      "  tyokyoshi.rename(columns={'名前(ターゲット内表記)': '調教師'}, inplace=True)\n",
      "C:\\Users\\newpc\\AppData\\Local\\Temp\\ipykernel_14728\\654854529.py:4: SettingWithCopyWarning: \n",
      "A value is trying to be set on a copy of a slice from a DataFrame\n",
      "\n",
      "See the caveats in the documentation: https://pandas.pydata.org/pandas-docs/stable/user_guide/indexing.html#returning-a-view-versus-a-copy\n",
      "  tyokyoshi.rename(columns={'生涯1着': '調教師点'}, inplace=True)\n"
     ]
    }
   ],
   "source": [
    "# '名前(ターゲット内表記)'列を'調教師'に変更\n",
    "tyokyoshi.rename(columns={'名前(ターゲット内表記)': '調教師'}, inplace=True)\n",
    "# '生涯1着'列名を'調教師点'に変更\n",
    "tyokyoshi.rename(columns={'生涯1着': '調教師点'}, inplace=True)\n",
    "# 結果を表示\n",
    "print(tyokyoshi.head(2))"
   ]
  },
  {
   "cell_type": "code",
   "execution_count": 36,
   "id": "f649ad70",
   "metadata": {},
   "outputs": [
    {
     "data": {
      "text/html": [
       "<div>\n",
       "<style scoped>\n",
       "    .dataframe tbody tr th:only-of-type {\n",
       "        vertical-align: middle;\n",
       "    }\n",
       "\n",
       "    .dataframe tbody tr th {\n",
       "        vertical-align: top;\n",
       "    }\n",
       "\n",
       "    .dataframe thead th {\n",
       "        text-align: right;\n",
       "    }\n",
       "</style>\n",
       "<table border=\"1\" class=\"dataframe\">\n",
       "  <thead>\n",
       "    <tr style=\"text-align: right;\">\n",
       "      <th></th>\n",
       "      <th>場所</th>\n",
       "      <th>馬名</th>\n",
       "      <th>距離</th>\n",
       "      <th>走破タイム</th>\n",
       "      <th>レース番号</th>\n",
       "      <th>騎手名</th>\n",
       "      <th>斤量</th>\n",
       "      <th>馬番</th>\n",
       "      <th>馬体重</th>\n",
       "      <th>上がり3Fタイム</th>\n",
       "      <th>...</th>\n",
       "      <th>美→小倉</th>\n",
       "      <th>美→新潟</th>\n",
       "      <th>美→札幌</th>\n",
       "      <th>美→東京</th>\n",
       "      <th>美→福島</th>\n",
       "      <th>美→阪神</th>\n",
       "      <th>父の賞金</th>\n",
       "      <th>母の賞金</th>\n",
       "      <th>母父の賞金</th>\n",
       "      <th>調教師点</th>\n",
       "    </tr>\n",
       "  </thead>\n",
       "  <tbody>\n",
       "    <tr>\n",
       "      <th>0</th>\n",
       "      <td>札幌</td>\n",
       "      <td>サンダビューク</td>\n",
       "      <td>1000</td>\n",
       "      <td>59.3</td>\n",
       "      <td>7</td>\n",
       "      <td>石川倭</td>\n",
       "      <td>58.0</td>\n",
       "      <td>6</td>\n",
       "      <td>454</td>\n",
       "      <td>35.9</td>\n",
       "      <td>...</td>\n",
       "      <td>False</td>\n",
       "      <td>False</td>\n",
       "      <td>True</td>\n",
       "      <td>False</td>\n",
       "      <td>False</td>\n",
       "      <td>False</td>\n",
       "      <td>NaN</td>\n",
       "      <td>NaN</td>\n",
       "      <td>NaN</td>\n",
       "      <td>88.0</td>\n",
       "    </tr>\n",
       "    <tr>\n",
       "      <th>1</th>\n",
       "      <td>札幌</td>\n",
       "      <td>フクノワカバ</td>\n",
       "      <td>1000</td>\n",
       "      <td>59.3</td>\n",
       "      <td>7</td>\n",
       "      <td>鮫島克駿</td>\n",
       "      <td>54.0</td>\n",
       "      <td>5</td>\n",
       "      <td>446</td>\n",
       "      <td>36.1</td>\n",
       "      <td>...</td>\n",
       "      <td>False</td>\n",
       "      <td>False</td>\n",
       "      <td>False</td>\n",
       "      <td>False</td>\n",
       "      <td>False</td>\n",
       "      <td>False</td>\n",
       "      <td>NaN</td>\n",
       "      <td>3665.0</td>\n",
       "      <td>94540.0</td>\n",
       "      <td>43.0</td>\n",
       "    </tr>\n",
       "    <tr>\n",
       "      <th>2</th>\n",
       "      <td>札幌</td>\n",
       "      <td>クロンヌドラレーヌ</td>\n",
       "      <td>1000</td>\n",
       "      <td>59.3</td>\n",
       "      <td>7</td>\n",
       "      <td>佐々木大</td>\n",
       "      <td>54.0</td>\n",
       "      <td>12</td>\n",
       "      <td>452</td>\n",
       "      <td>35.1</td>\n",
       "      <td>...</td>\n",
       "      <td>False</td>\n",
       "      <td>False</td>\n",
       "      <td>True</td>\n",
       "      <td>False</td>\n",
       "      <td>False</td>\n",
       "      <td>False</td>\n",
       "      <td>65140.0</td>\n",
       "      <td>14376.0</td>\n",
       "      <td>NaN</td>\n",
       "      <td>295.0</td>\n",
       "    </tr>\n",
       "    <tr>\n",
       "      <th>3</th>\n",
       "      <td>札幌</td>\n",
       "      <td>アカザ</td>\n",
       "      <td>1000</td>\n",
       "      <td>59.4</td>\n",
       "      <td>7</td>\n",
       "      <td>鷲頭虎太</td>\n",
       "      <td>53.0</td>\n",
       "      <td>10</td>\n",
       "      <td>444</td>\n",
       "      <td>36.1</td>\n",
       "      <td>...</td>\n",
       "      <td>False</td>\n",
       "      <td>False</td>\n",
       "      <td>True</td>\n",
       "      <td>False</td>\n",
       "      <td>False</td>\n",
       "      <td>False</td>\n",
       "      <td>51630.0</td>\n",
       "      <td>NaN</td>\n",
       "      <td>NaN</td>\n",
       "      <td>23.0</td>\n",
       "    </tr>\n",
       "    <tr>\n",
       "      <th>4</th>\n",
       "      <td>札幌</td>\n",
       "      <td>ナムラジョシュア</td>\n",
       "      <td>1000</td>\n",
       "      <td>59.5</td>\n",
       "      <td>7</td>\n",
       "      <td>長岡禎仁</td>\n",
       "      <td>56.0</td>\n",
       "      <td>4</td>\n",
       "      <td>470</td>\n",
       "      <td>35.7</td>\n",
       "      <td>...</td>\n",
       "      <td>False</td>\n",
       "      <td>False</td>\n",
       "      <td>False</td>\n",
       "      <td>False</td>\n",
       "      <td>False</td>\n",
       "      <td>False</td>\n",
       "      <td>NaN</td>\n",
       "      <td>336.0</td>\n",
       "      <td>NaN</td>\n",
       "      <td>235.0</td>\n",
       "    </tr>\n",
       "    <tr>\n",
       "      <th>5</th>\n",
       "      <td>札幌</td>\n",
       "      <td>カップッチョ</td>\n",
       "      <td>1000</td>\n",
       "      <td>59.6</td>\n",
       "      <td>7</td>\n",
       "      <td>黛弘人</td>\n",
       "      <td>58.0</td>\n",
       "      <td>2</td>\n",
       "      <td>488</td>\n",
       "      <td>35.9</td>\n",
       "      <td>...</td>\n",
       "      <td>False</td>\n",
       "      <td>False</td>\n",
       "      <td>True</td>\n",
       "      <td>False</td>\n",
       "      <td>False</td>\n",
       "      <td>False</td>\n",
       "      <td>29535.0</td>\n",
       "      <td>NaN</td>\n",
       "      <td>NaN</td>\n",
       "      <td>243.0</td>\n",
       "    </tr>\n",
       "    <tr>\n",
       "      <th>6</th>\n",
       "      <td>札幌</td>\n",
       "      <td>グランデ</td>\n",
       "      <td>1000</td>\n",
       "      <td>59.7</td>\n",
       "      <td>7</td>\n",
       "      <td>今村聖奈</td>\n",
       "      <td>55.0</td>\n",
       "      <td>11</td>\n",
       "      <td>470</td>\n",
       "      <td>36.3</td>\n",
       "      <td>...</td>\n",
       "      <td>False</td>\n",
       "      <td>False</td>\n",
       "      <td>False</td>\n",
       "      <td>False</td>\n",
       "      <td>False</td>\n",
       "      <td>False</td>\n",
       "      <td>NaN</td>\n",
       "      <td>380.0</td>\n",
       "      <td>NaN</td>\n",
       "      <td>286.0</td>\n",
       "    </tr>\n",
       "  </tbody>\n",
       "</table>\n",
       "<p>7 rows × 79 columns</p>\n",
       "</div>"
      ],
      "text/plain": [
       "   場所               馬名    距離  走破タイム  レース番号   騎手名    斤量  馬番  馬体重  上がり3Fタイム  \\\n",
       "0  札幌      サンダビューク      1000   59.3      7   石川倭  58.0   6  454      35.9   \n",
       "1  札幌     フクノワカバ        1000   59.3      7  鮫島克駿  54.0   5  446      36.1   \n",
       "2  札幌        クロンヌドラレーヌ  1000   59.3      7  佐々木大  54.0  12  452      35.1   \n",
       "3  札幌  アカザ              1000   59.4      7  鷲頭虎太  53.0  10  444      36.1   \n",
       "4  札幌       ナムラジョシュア    1000   59.5      7  長岡禎仁  56.0   4  470      35.7   \n",
       "5  札幌     カップッチョ        1000   59.6      7   黛弘人  58.0   2  488      35.9   \n",
       "6  札幌   グランデ            1000   59.7      7  今村聖奈  55.0  11  470      36.3   \n",
       "\n",
       "   ...   美→小倉   美→新潟   美→札幌   美→東京   美→福島   美→阪神     父の賞金     母の賞金    母父の賞金  \\\n",
       "0  ...  False  False   True  False  False  False      NaN      NaN      NaN   \n",
       "1  ...  False  False  False  False  False  False      NaN   3665.0  94540.0   \n",
       "2  ...  False  False   True  False  False  False  65140.0  14376.0      NaN   \n",
       "3  ...  False  False   True  False  False  False  51630.0      NaN      NaN   \n",
       "4  ...  False  False  False  False  False  False      NaN    336.0      NaN   \n",
       "5  ...  False  False   True  False  False  False  29535.0      NaN      NaN   \n",
       "6  ...  False  False  False  False  False  False      NaN    380.0      NaN   \n",
       "\n",
       "    調教師点  \n",
       "0   88.0  \n",
       "1   43.0  \n",
       "2  295.0  \n",
       "3   23.0  \n",
       "4  235.0  \n",
       "5  243.0  \n",
       "6  286.0  \n",
       "\n",
       "[7 rows x 79 columns]"
      ]
     },
     "execution_count": 36,
     "metadata": {},
     "output_type": "execute_result"
    }
   ],
   "source": [
    "# '調教師'をプライマリキーとして'調教師点'列を df に追加\n",
    "df2 = pd.merge(df2, tyokyoshi[['調教師','調教師点']], on='調教師', how='left')\n",
    "\n",
    "# 結果のデータフレーム df2を表示\n",
    "df2.head(7)"
   ]
  },
  {
   "cell_type": "code",
   "execution_count": 37,
   "id": "47431639",
   "metadata": {},
   "outputs": [
    {
     "data": {
      "text/plain": [
       "調教師点\n",
       "336.0    6808\n",
       "259.0    6038\n",
       "631.0    5972\n",
       "821.0    5318\n",
       "512.0    4921\n",
       "         ... \n",
       "25.0      109\n",
       "20.0       67\n",
       "9.0        24\n",
       "2.0        12\n",
       "0.0         2\n",
       "Name: count, Length: 133, dtype: int64"
      ]
     },
     "execution_count": 37,
     "metadata": {},
     "output_type": "execute_result"
    }
   ],
   "source": [
    "#最頻値\n",
    "df2['調教師点'].value_counts()"
   ]
  },
  {
   "cell_type": "code",
   "execution_count": 38,
   "id": "616fd7e0",
   "metadata": {},
   "outputs": [
    {
     "data": {
      "text/plain": [
       "283407"
      ]
     },
     "execution_count": 38,
     "metadata": {},
     "output_type": "execute_result"
    }
   ],
   "source": [
    "#NaNの数\n",
    "df2['調教師点'].isna().sum()"
   ]
  },
  {
   "cell_type": "code",
   "execution_count": 39,
   "id": "779b06cc",
   "metadata": {},
   "outputs": [
    {
     "data": {
      "text/plain": [
       "(537533, 78)"
      ]
     },
     "execution_count": 39,
     "metadata": {},
     "output_type": "execute_result"
    }
   ],
   "source": [
    "# '調教師'を削除\n",
    "df2 = df2.drop(['調教師'], axis=1)\n",
    "df2.shape"
   ]
  },
  {
   "cell_type": "code",
   "execution_count": 40,
   "id": "fc55f82e",
   "metadata": {},
   "outputs": [
    {
     "name": "stdout",
     "output_type": "stream",
     "text": [
      "['場所', '馬名', '距離', '走破タイム', 'レース番号', '騎手名', '斤量', '馬番', '馬体重', '上がり3Fタイム', '所属地', '現馬主名', '生産者名', 'レースID', '仮予測', '生後日数', 'レースごとの平均賞金', '稍', '良', '重', '牝', '牡', 11, 15, 23, 39, 43, 67, 115, 131, 147, 163, 179, 195, '栗毛', '白毛', '芦毛', '青毛', '青鹿', '鹿毛', '黒鹿', '地→中山', '地→京都', '地→函館', '地→小倉', '地→新潟', '地→札幌', '地→東京', '地→福島', '地→阪神', '外→中京', '外→中山', '外→東京', '外→阪神', '栗→中京', '栗→中山', '栗→京都', '栗→函館', '栗→小倉', '栗→新潟', '栗→札幌', '栗→東京', '栗→福島', '栗→阪神', '美→中京', '美→中山', '美→京都', '美→函館', '美→小倉', '美→新潟', '美→札幌', '美→東京', '美→福島', '美→阪神', '父の賞金', '母の賞金', '母父の賞金', '調教師点']\n"
     ]
    }
   ],
   "source": [
    "#コラムを確認\n",
    "print(df2.columns.to_list())"
   ]
  },
  {
   "cell_type": "code",
   "execution_count": 41,
   "id": "eb1e37be",
   "metadata": {},
   "outputs": [],
   "source": [
    "# dfのNaNを全て0に変換\n",
    "df2.fillna(0, inplace=True)"
   ]
  },
  {
   "cell_type": "code",
   "execution_count": 42,
   "id": "e71192ba",
   "metadata": {},
   "outputs": [],
   "source": [
    "# データフレームをpickleファイルとして保存\n",
    "df2.to_pickle('名前を数値化0218.pkl')"
   ]
  },
  {
   "cell_type": "markdown",
   "id": "6a97643c",
   "metadata": {},
   "source": [
    "# 騎手を数値化（生涯1着数）"
   ]
  },
  {
   "cell_type": "code",
   "execution_count": 43,
   "id": "8fe3c44d",
   "metadata": {},
   "outputs": [],
   "source": [
    "# ｄｆとして保存済みの「調教師」データを読み込む\n",
    "jockey = pd.read_pickle('騎手.pkl')"
   ]
  },
  {
   "cell_type": "code",
   "execution_count": 44,
   "id": "8cc93f97",
   "metadata": {
    "scrolled": true
   },
   "outputs": [
    {
     "name": "stdout",
     "output_type": "stream",
     "text": [
      "['順位', '名前(ターゲット内表記)', 'フルネーム(JRA-VANデータ内表記)', '読み(半角仮名/欧字)', '欧字表記名', '所属', '年齢', '誕生日', '免許取得年', 'キャリア', '本年着度数', '1着数', '2着数', '3着数', '着外数', '総数', '勝率', '連対率', '複勝率', '前年着度数', '前年1着', '前年2着', '前年3着', '前年着外', '前年総数', '前年勝率', '前年連対率', '前年複勝率', '生涯着度数', '生涯1着', '生涯2着', '生涯3着', '生涯着外', '生涯総数', '生涯勝率', '生涯連対率', '生涯複勝率', 'コード', '現役・抹消', 'チェック', '勝数前年比', '総レース数前年比', 'コメント', '本年順位(平地)', '前年順位(平地)']\n"
     ]
    }
   ],
   "source": [
    "#コラムを確認\n",
    "print(jockey.columns.to_list())"
   ]
  },
  {
   "cell_type": "code",
   "execution_count": 45,
   "id": "6ecdcb09",
   "metadata": {},
   "outputs": [
    {
     "data": {
      "text/plain": [
       "True"
      ]
     },
     "execution_count": 45,
     "metadata": {},
     "output_type": "execute_result"
    }
   ],
   "source": [
    "#重複を調べる\n",
    "jockey['名前(ターゲット内表記)'].is_unique"
   ]
  },
  {
   "cell_type": "code",
   "execution_count": 46,
   "id": "9b0c236c",
   "metadata": {},
   "outputs": [
    {
     "data": {
      "text/html": [
       "<div>\n",
       "<style scoped>\n",
       "    .dataframe tbody tr th:only-of-type {\n",
       "        vertical-align: middle;\n",
       "    }\n",
       "\n",
       "    .dataframe tbody tr th {\n",
       "        vertical-align: top;\n",
       "    }\n",
       "\n",
       "    .dataframe thead th {\n",
       "        text-align: right;\n",
       "    }\n",
       "</style>\n",
       "<table border=\"1\" class=\"dataframe\">\n",
       "  <thead>\n",
       "    <tr style=\"text-align: right;\">\n",
       "      <th></th>\n",
       "      <th>名前(ターゲット内表記)</th>\n",
       "      <th>生涯1着</th>\n",
       "    </tr>\n",
       "  </thead>\n",
       "  <tbody>\n",
       "    <tr>\n",
       "      <th>0</th>\n",
       "      <td>吉田豊</td>\n",
       "      <td>1289</td>\n",
       "    </tr>\n",
       "    <tr>\n",
       "      <th>1</th>\n",
       "      <td>吉田隼人</td>\n",
       "      <td>1157</td>\n",
       "    </tr>\n",
       "    <tr>\n",
       "      <th>2</th>\n",
       "      <td>横山琉人</td>\n",
       "      <td>56</td>\n",
       "    </tr>\n",
       "    <tr>\n",
       "      <th>3</th>\n",
       "      <td>横山典弘</td>\n",
       "      <td>2922</td>\n",
       "    </tr>\n",
       "    <tr>\n",
       "      <th>4</th>\n",
       "      <td>横山武史</td>\n",
       "      <td>505</td>\n",
       "    </tr>\n",
       "    <tr>\n",
       "      <th>5</th>\n",
       "      <td>横山和生</td>\n",
       "      <td>349</td>\n",
       "    </tr>\n",
       "    <tr>\n",
       "      <th>6</th>\n",
       "      <td>山田敬士</td>\n",
       "      <td>40</td>\n",
       "    </tr>\n",
       "  </tbody>\n",
       "</table>\n",
       "</div>"
      ],
      "text/plain": [
       "  名前(ターゲット内表記)  生涯1着\n",
       "0         吉田豊　  1289\n",
       "1         吉田隼人  1157\n",
       "2         横山琉人    56\n",
       "3         横山典弘  2922\n",
       "4         横山武史   505\n",
       "5         横山和生   349\n",
       "6         山田敬士    40"
      ]
     },
     "execution_count": 46,
     "metadata": {},
     "output_type": "execute_result"
    }
   ],
   "source": [
    "#データフレームtyokyoshiを必要な列だけのdfにする\n",
    "jockey=jockey[['名前(ターゲット内表記)','生涯1着']]\n",
    "jockey.head(7)"
   ]
  },
  {
   "cell_type": "code",
   "execution_count": 47,
   "id": "16e7c41c",
   "metadata": {},
   "outputs": [
    {
     "name": "stdout",
     "output_type": "stream",
     "text": [
      "    騎手名   騎手点\n",
      "0  吉田豊　  1289\n",
      "1  吉田隼人  1157\n"
     ]
    }
   ],
   "source": [
    "# '名前(ターゲット内表記)'列を'騎手名'に変更\n",
    "jockey.rename(columns={'名前(ターゲット内表記)': '騎手名'}, inplace=True)\n",
    "# '生涯1着'列名を'騎手点'に変更\n",
    "jockey.rename(columns={'生涯1着': '騎手点'}, inplace=True)\n",
    "# 結果を表示\n",
    "print(jockey.head(2))"
   ]
  },
  {
   "cell_type": "code",
   "execution_count": 48,
   "id": "c7fa9ec6",
   "metadata": {},
   "outputs": [
    {
     "data": {
      "text/html": [
       "<div>\n",
       "<style scoped>\n",
       "    .dataframe tbody tr th:only-of-type {\n",
       "        vertical-align: middle;\n",
       "    }\n",
       "\n",
       "    .dataframe tbody tr th {\n",
       "        vertical-align: top;\n",
       "    }\n",
       "\n",
       "    .dataframe thead th {\n",
       "        text-align: right;\n",
       "    }\n",
       "</style>\n",
       "<table border=\"1\" class=\"dataframe\">\n",
       "  <thead>\n",
       "    <tr style=\"text-align: right;\">\n",
       "      <th></th>\n",
       "      <th>場所</th>\n",
       "      <th>馬名</th>\n",
       "      <th>距離</th>\n",
       "      <th>走破タイム</th>\n",
       "      <th>レース番号</th>\n",
       "      <th>騎手名</th>\n",
       "      <th>斤量</th>\n",
       "      <th>馬番</th>\n",
       "      <th>馬体重</th>\n",
       "      <th>上がり3Fタイム</th>\n",
       "      <th>...</th>\n",
       "      <th>美→新潟</th>\n",
       "      <th>美→札幌</th>\n",
       "      <th>美→東京</th>\n",
       "      <th>美→福島</th>\n",
       "      <th>美→阪神</th>\n",
       "      <th>父の賞金</th>\n",
       "      <th>母の賞金</th>\n",
       "      <th>母父の賞金</th>\n",
       "      <th>調教師点</th>\n",
       "      <th>騎手点</th>\n",
       "    </tr>\n",
       "  </thead>\n",
       "  <tbody>\n",
       "    <tr>\n",
       "      <th>0</th>\n",
       "      <td>札幌</td>\n",
       "      <td>サンダビューク</td>\n",
       "      <td>1000</td>\n",
       "      <td>59.3</td>\n",
       "      <td>7</td>\n",
       "      <td>石川倭</td>\n",
       "      <td>58.0</td>\n",
       "      <td>6</td>\n",
       "      <td>454</td>\n",
       "      <td>35.9</td>\n",
       "      <td>...</td>\n",
       "      <td>False</td>\n",
       "      <td>True</td>\n",
       "      <td>False</td>\n",
       "      <td>False</td>\n",
       "      <td>False</td>\n",
       "      <td>0.0</td>\n",
       "      <td>0.0</td>\n",
       "      <td>0.0</td>\n",
       "      <td>88.0</td>\n",
       "      <td>NaN</td>\n",
       "    </tr>\n",
       "    <tr>\n",
       "      <th>1</th>\n",
       "      <td>札幌</td>\n",
       "      <td>フクノワカバ</td>\n",
       "      <td>1000</td>\n",
       "      <td>59.3</td>\n",
       "      <td>7</td>\n",
       "      <td>鮫島克駿</td>\n",
       "      <td>54.0</td>\n",
       "      <td>5</td>\n",
       "      <td>446</td>\n",
       "      <td>36.1</td>\n",
       "      <td>...</td>\n",
       "      <td>False</td>\n",
       "      <td>False</td>\n",
       "      <td>False</td>\n",
       "      <td>False</td>\n",
       "      <td>False</td>\n",
       "      <td>0.0</td>\n",
       "      <td>3665.0</td>\n",
       "      <td>94540.0</td>\n",
       "      <td>43.0</td>\n",
       "      <td>412.0</td>\n",
       "    </tr>\n",
       "    <tr>\n",
       "      <th>2</th>\n",
       "      <td>札幌</td>\n",
       "      <td>クロンヌドラレーヌ</td>\n",
       "      <td>1000</td>\n",
       "      <td>59.3</td>\n",
       "      <td>7</td>\n",
       "      <td>佐々木大</td>\n",
       "      <td>54.0</td>\n",
       "      <td>12</td>\n",
       "      <td>452</td>\n",
       "      <td>35.1</td>\n",
       "      <td>...</td>\n",
       "      <td>False</td>\n",
       "      <td>True</td>\n",
       "      <td>False</td>\n",
       "      <td>False</td>\n",
       "      <td>False</td>\n",
       "      <td>65140.0</td>\n",
       "      <td>14376.0</td>\n",
       "      <td>0.0</td>\n",
       "      <td>295.0</td>\n",
       "      <td>49.0</td>\n",
       "    </tr>\n",
       "    <tr>\n",
       "      <th>3</th>\n",
       "      <td>札幌</td>\n",
       "      <td>アカザ</td>\n",
       "      <td>1000</td>\n",
       "      <td>59.4</td>\n",
       "      <td>7</td>\n",
       "      <td>鷲頭虎太</td>\n",
       "      <td>53.0</td>\n",
       "      <td>10</td>\n",
       "      <td>444</td>\n",
       "      <td>36.1</td>\n",
       "      <td>...</td>\n",
       "      <td>False</td>\n",
       "      <td>True</td>\n",
       "      <td>False</td>\n",
       "      <td>False</td>\n",
       "      <td>False</td>\n",
       "      <td>51630.0</td>\n",
       "      <td>0.0</td>\n",
       "      <td>0.0</td>\n",
       "      <td>23.0</td>\n",
       "      <td>14.0</td>\n",
       "    </tr>\n",
       "    <tr>\n",
       "      <th>4</th>\n",
       "      <td>札幌</td>\n",
       "      <td>ナムラジョシュア</td>\n",
       "      <td>1000</td>\n",
       "      <td>59.5</td>\n",
       "      <td>7</td>\n",
       "      <td>長岡禎仁</td>\n",
       "      <td>56.0</td>\n",
       "      <td>4</td>\n",
       "      <td>470</td>\n",
       "      <td>35.7</td>\n",
       "      <td>...</td>\n",
       "      <td>False</td>\n",
       "      <td>False</td>\n",
       "      <td>False</td>\n",
       "      <td>False</td>\n",
       "      <td>False</td>\n",
       "      <td>0.0</td>\n",
       "      <td>336.0</td>\n",
       "      <td>0.0</td>\n",
       "      <td>235.0</td>\n",
       "      <td>84.0</td>\n",
       "    </tr>\n",
       "    <tr>\n",
       "      <th>5</th>\n",
       "      <td>札幌</td>\n",
       "      <td>カップッチョ</td>\n",
       "      <td>1000</td>\n",
       "      <td>59.6</td>\n",
       "      <td>7</td>\n",
       "      <td>黛弘人</td>\n",
       "      <td>58.0</td>\n",
       "      <td>2</td>\n",
       "      <td>488</td>\n",
       "      <td>35.9</td>\n",
       "      <td>...</td>\n",
       "      <td>False</td>\n",
       "      <td>True</td>\n",
       "      <td>False</td>\n",
       "      <td>False</td>\n",
       "      <td>False</td>\n",
       "      <td>29535.0</td>\n",
       "      <td>0.0</td>\n",
       "      <td>0.0</td>\n",
       "      <td>243.0</td>\n",
       "      <td>NaN</td>\n",
       "    </tr>\n",
       "    <tr>\n",
       "      <th>6</th>\n",
       "      <td>札幌</td>\n",
       "      <td>グランデ</td>\n",
       "      <td>1000</td>\n",
       "      <td>59.7</td>\n",
       "      <td>7</td>\n",
       "      <td>今村聖奈</td>\n",
       "      <td>55.0</td>\n",
       "      <td>11</td>\n",
       "      <td>470</td>\n",
       "      <td>36.3</td>\n",
       "      <td>...</td>\n",
       "      <td>False</td>\n",
       "      <td>False</td>\n",
       "      <td>False</td>\n",
       "      <td>False</td>\n",
       "      <td>False</td>\n",
       "      <td>0.0</td>\n",
       "      <td>380.0</td>\n",
       "      <td>0.0</td>\n",
       "      <td>286.0</td>\n",
       "      <td>71.0</td>\n",
       "    </tr>\n",
       "  </tbody>\n",
       "</table>\n",
       "<p>7 rows × 79 columns</p>\n",
       "</div>"
      ],
      "text/plain": [
       "   場所               馬名    距離  走破タイム  レース番号   騎手名    斤量  馬番  馬体重  上がり3Fタイム  \\\n",
       "0  札幌      サンダビューク      1000   59.3      7   石川倭  58.0   6  454      35.9   \n",
       "1  札幌     フクノワカバ        1000   59.3      7  鮫島克駿  54.0   5  446      36.1   \n",
       "2  札幌        クロンヌドラレーヌ  1000   59.3      7  佐々木大  54.0  12  452      35.1   \n",
       "3  札幌  アカザ              1000   59.4      7  鷲頭虎太  53.0  10  444      36.1   \n",
       "4  札幌       ナムラジョシュア    1000   59.5      7  長岡禎仁  56.0   4  470      35.7   \n",
       "5  札幌     カップッチョ        1000   59.6      7   黛弘人  58.0   2  488      35.9   \n",
       "6  札幌   グランデ            1000   59.7      7  今村聖奈  55.0  11  470      36.3   \n",
       "\n",
       "   ...   美→新潟   美→札幌   美→東京   美→福島   美→阪神     父の賞金     母の賞金    母父の賞金   調教師点  \\\n",
       "0  ...  False   True  False  False  False      0.0      0.0      0.0   88.0   \n",
       "1  ...  False  False  False  False  False      0.0   3665.0  94540.0   43.0   \n",
       "2  ...  False   True  False  False  False  65140.0  14376.0      0.0  295.0   \n",
       "3  ...  False   True  False  False  False  51630.0      0.0      0.0   23.0   \n",
       "4  ...  False  False  False  False  False      0.0    336.0      0.0  235.0   \n",
       "5  ...  False   True  False  False  False  29535.0      0.0      0.0  243.0   \n",
       "6  ...  False  False  False  False  False      0.0    380.0      0.0  286.0   \n",
       "\n",
       "     騎手点  \n",
       "0    NaN  \n",
       "1  412.0  \n",
       "2   49.0  \n",
       "3   14.0  \n",
       "4   84.0  \n",
       "5    NaN  \n",
       "6   71.0  \n",
       "\n",
       "[7 rows x 79 columns]"
      ]
     },
     "execution_count": 48,
     "metadata": {},
     "output_type": "execute_result"
    }
   ],
   "source": [
    "# '騎手名'をプライマリキーとして'騎手名点'列を df に追加\n",
    "df2 = pd.merge(df2, jockey[['騎手名','騎手点']], on='騎手名', how='left')\n",
    "\n",
    "# 結果のデータフレーム df2を表示\n",
    "df2.head(7)"
   ]
  },
  {
   "cell_type": "code",
   "execution_count": 49,
   "id": "d9ffb035",
   "metadata": {},
   "outputs": [
    {
     "data": {
      "text/plain": [
       "騎手点\n",
       "1460.0    9227\n",
       "1759.0    7504\n",
       "1431.0    7492\n",
       "965.0     7118\n",
       "1809.0    6898\n",
       "          ... \n",
       "1.0        104\n",
       "0.0        102\n",
       "4.0         71\n",
       "63.0        69\n",
       "281.0       44\n",
       "Name: count, Length: 116, dtype: int64"
      ]
     },
     "execution_count": 49,
     "metadata": {},
     "output_type": "execute_result"
    }
   ],
   "source": [
    "#最頻値\n",
    "df2['騎手点'].value_counts()"
   ]
  },
  {
   "cell_type": "code",
   "execution_count": 50,
   "id": "1ea381da",
   "metadata": {},
   "outputs": [
    {
     "data": {
      "text/plain": [
       "227845"
      ]
     },
     "execution_count": 50,
     "metadata": {},
     "output_type": "execute_result"
    }
   ],
   "source": [
    "#NaNの数\n",
    "df2['騎手点'].isna().sum()"
   ]
  },
  {
   "cell_type": "code",
   "execution_count": 51,
   "id": "51bb2915",
   "metadata": {},
   "outputs": [
    {
     "data": {
      "text/plain": [
       "(537533, 79)"
      ]
     },
     "execution_count": 51,
     "metadata": {},
     "output_type": "execute_result"
    }
   ],
   "source": [
    "df2.shape"
   ]
  },
  {
   "cell_type": "code",
   "execution_count": 52,
   "id": "44e8f89f",
   "metadata": {},
   "outputs": [
    {
     "data": {
      "text/plain": [
       "(537533, 78)"
      ]
     },
     "execution_count": 52,
     "metadata": {},
     "output_type": "execute_result"
    }
   ],
   "source": [
    "# '騎手名'を削除\n",
    "df2 = df2.drop(['騎手名'], axis=1)\n",
    "df2.shape"
   ]
  },
  {
   "cell_type": "markdown",
   "id": "1316e7d5",
   "metadata": {},
   "source": [
    "# 生産者を数値化（生涯1着数）"
   ]
  },
  {
   "cell_type": "code",
   "execution_count": 53,
   "id": "6c5a834c",
   "metadata": {},
   "outputs": [],
   "source": [
    "# ｄｆとして保存済みの'生産者'データを読み込む\n",
    "seisansya = pd.read_pickle('生産者.pkl')"
   ]
  },
  {
   "cell_type": "code",
   "execution_count": 54,
   "id": "bda606ea",
   "metadata": {},
   "outputs": [
    {
     "data": {
      "text/plain": [
       "(1808, 26)"
      ]
     },
     "execution_count": 54,
     "metadata": {},
     "output_type": "execute_result"
    }
   ],
   "source": [
    "seisansya.shape"
   ]
  },
  {
   "cell_type": "code",
   "execution_count": 55,
   "id": "dd5c63ad",
   "metadata": {},
   "outputs": [
    {
     "name": "stdout",
     "output_type": "stream",
     "text": [
      "['生産者コード', '生産者名', '本年1着', '本年2着', '本年3着', '本年4着', '本年5着', '本年6着以下', '本年総数', '本年勝率', '本年連対率', '本年複勝率', '本年本賞金計(万円)', '本年1走当本賞金(万円)', '通算1着', '通算2着', '通算3着', '通算4着', '通算5着', '通算6着以下', '通算総数', '通算勝率', '通算連対率', '通算複勝率', '通算本賞金計(万円)', '通算1走当本賞金(万円)']\n"
     ]
    }
   ],
   "source": [
    "#コラムを確認\n",
    "print(seisansya.columns.to_list())"
   ]
  },
  {
   "cell_type": "code",
   "execution_count": 56,
   "id": "d6427e13",
   "metadata": {},
   "outputs": [
    {
     "data": {
      "text/plain": [
       "False"
      ]
     },
     "execution_count": 56,
     "metadata": {},
     "output_type": "execute_result"
    }
   ],
   "source": [
    "#重複を調べる\n",
    "seisansya['生産者名'].is_unique"
   ]
  },
  {
   "cell_type": "code",
   "execution_count": 57,
   "id": "b77c0704",
   "metadata": {},
   "outputs": [],
   "source": [
    "# 特定の列においてユニークでない行を削除\n",
    "列名 = '生産者名'\n",
    "seisansya = seisansya[~seisansya.duplicated(subset=[列名])]"
   ]
  },
  {
   "cell_type": "code",
   "execution_count": 58,
   "id": "8c3f6612",
   "metadata": {},
   "outputs": [
    {
     "data": {
      "text/plain": [
       "(1728, 26)"
      ]
     },
     "execution_count": 58,
     "metadata": {},
     "output_type": "execute_result"
    }
   ],
   "source": [
    "seisansya.shape"
   ]
  },
  {
   "cell_type": "code",
   "execution_count": 59,
   "id": "c0cb709b",
   "metadata": {
    "scrolled": true
   },
   "outputs": [
    {
     "data": {
      "text/html": [
       "<div>\n",
       "<style scoped>\n",
       "    .dataframe tbody tr th:only-of-type {\n",
       "        vertical-align: middle;\n",
       "    }\n",
       "\n",
       "    .dataframe tbody tr th {\n",
       "        vertical-align: top;\n",
       "    }\n",
       "\n",
       "    .dataframe thead th {\n",
       "        text-align: right;\n",
       "    }\n",
       "</style>\n",
       "<table border=\"1\" class=\"dataframe\">\n",
       "  <thead>\n",
       "    <tr style=\"text-align: right;\">\n",
       "      <th></th>\n",
       "      <th>生産者名</th>\n",
       "      <th>通算本賞金計(万円)</th>\n",
       "    </tr>\n",
       "  </thead>\n",
       "  <tbody>\n",
       "    <tr>\n",
       "      <th>0</th>\n",
       "      <td>ノーザンファーム</td>\n",
       "      <td>7171309.0</td>\n",
       "    </tr>\n",
       "    <tr>\n",
       "      <th>1</th>\n",
       "      <td>社台ファーム</td>\n",
       "      <td>5906921.0</td>\n",
       "    </tr>\n",
       "    <tr>\n",
       "      <th>2</th>\n",
       "      <td>社台コーポレーション白老ファーム</td>\n",
       "      <td>3607832.0</td>\n",
       "    </tr>\n",
       "    <tr>\n",
       "      <th>3</th>\n",
       "      <td>千代田牧場</td>\n",
       "      <td>1159554.0</td>\n",
       "    </tr>\n",
       "    <tr>\n",
       "      <th>4</th>\n",
       "      <td>下河辺牧場</td>\n",
       "      <td>1677316.0</td>\n",
       "    </tr>\n",
       "    <tr>\n",
       "      <th>5</th>\n",
       "      <td>ビッグレッドファーム</td>\n",
       "      <td>1485146.0</td>\n",
       "    </tr>\n",
       "    <tr>\n",
       "      <th>6</th>\n",
       "      <td>岡田スタツド</td>\n",
       "      <td>1217896.0</td>\n",
       "    </tr>\n",
       "  </tbody>\n",
       "</table>\n",
       "</div>"
      ],
      "text/plain": [
       "               生産者名  通算本賞金計(万円)\n",
       "0          ノーザンファーム   7171309.0\n",
       "1            社台ファーム   5906921.0\n",
       "2  社台コーポレーション白老ファーム   3607832.0\n",
       "3             千代田牧場   1159554.0\n",
       "4             下河辺牧場   1677316.0\n",
       "5        ビッグレッドファーム   1485146.0\n",
       "6            岡田スタツド   1217896.0"
      ]
     },
     "execution_count": 59,
     "metadata": {},
     "output_type": "execute_result"
    }
   ],
   "source": [
    "#データフレームseisansyaを必要な列だけのdfにする\n",
    "seisansya=seisansya[['生産者名','通算本賞金計(万円)']]\n",
    "seisansya.head(7)"
   ]
  },
  {
   "cell_type": "code",
   "execution_count": 60,
   "id": "7bdee9c9",
   "metadata": {},
   "outputs": [
    {
     "name": "stdout",
     "output_type": "stream",
     "text": [
      "['場所', '馬名', '距離', '走破タイム', 'レース番号', '斤量', '馬番', '馬体重', '上がり3Fタイム', '所属地', '現馬主名', '生産者名', 'レースID', '仮予測', '生後日数', 'レースごとの平均賞金', '稍', '良', '重', '牝', '牡', 11, 15, 23, 39, 43, 67, 115, 131, 147, 163, 179, 195, '栗毛', '白毛', '芦毛', '青毛', '青鹿', '鹿毛', '黒鹿', '地→中山', '地→京都', '地→函館', '地→小倉', '地→新潟', '地→札幌', '地→東京', '地→福島', '地→阪神', '外→中京', '外→中山', '外→東京', '外→阪神', '栗→中京', '栗→中山', '栗→京都', '栗→函館', '栗→小倉', '栗→新潟', '栗→札幌', '栗→東京', '栗→福島', '栗→阪神', '美→中京', '美→中山', '美→京都', '美→函館', '美→小倉', '美→新潟', '美→札幌', '美→東京', '美→福島', '美→阪神', '父の賞金', '母の賞金', '母父の賞金', '調教師点', '騎手点']\n"
     ]
    }
   ],
   "source": [
    "#コラムを確認\n",
    "print(df2.columns.to_list())"
   ]
  },
  {
   "cell_type": "code",
   "execution_count": 61,
   "id": "2b2de306",
   "metadata": {},
   "outputs": [
    {
     "name": "stdout",
     "output_type": "stream",
     "text": [
      "       生産者名       生産者点\n",
      "0  ノーザンファーム  7171309.0\n",
      "1    社台ファーム  5906921.0\n"
     ]
    }
   ],
   "source": [
    "# '通算本賞金計(万円)'列名を'生産者点'に変更\n",
    "seisansya.rename(columns={'通算本賞金計(万円)': '生産者点'}, inplace=True)\n",
    "# 結果を表示\n",
    "print(seisansya.head(2))"
   ]
  },
  {
   "cell_type": "code",
   "execution_count": 62,
   "id": "577b57fd",
   "metadata": {},
   "outputs": [
    {
     "data": {
      "text/html": [
       "<div>\n",
       "<style scoped>\n",
       "    .dataframe tbody tr th:only-of-type {\n",
       "        vertical-align: middle;\n",
       "    }\n",
       "\n",
       "    .dataframe tbody tr th {\n",
       "        vertical-align: top;\n",
       "    }\n",
       "\n",
       "    .dataframe thead th {\n",
       "        text-align: right;\n",
       "    }\n",
       "</style>\n",
       "<table border=\"1\" class=\"dataframe\">\n",
       "  <thead>\n",
       "    <tr style=\"text-align: right;\">\n",
       "      <th></th>\n",
       "      <th>場所</th>\n",
       "      <th>馬名</th>\n",
       "      <th>距離</th>\n",
       "      <th>走破タイム</th>\n",
       "      <th>レース番号</th>\n",
       "      <th>斤量</th>\n",
       "      <th>馬番</th>\n",
       "      <th>馬体重</th>\n",
       "      <th>上がり3Fタイム</th>\n",
       "      <th>所属地</th>\n",
       "      <th>...</th>\n",
       "      <th>美→札幌</th>\n",
       "      <th>美→東京</th>\n",
       "      <th>美→福島</th>\n",
       "      <th>美→阪神</th>\n",
       "      <th>父の賞金</th>\n",
       "      <th>母の賞金</th>\n",
       "      <th>母父の賞金</th>\n",
       "      <th>調教師点</th>\n",
       "      <th>騎手点</th>\n",
       "      <th>生産者点</th>\n",
       "    </tr>\n",
       "  </thead>\n",
       "  <tbody>\n",
       "    <tr>\n",
       "      <th>0</th>\n",
       "      <td>札幌</td>\n",
       "      <td>サンダビューク</td>\n",
       "      <td>1000</td>\n",
       "      <td>59.3</td>\n",
       "      <td>7</td>\n",
       "      <td>58.0</td>\n",
       "      <td>6</td>\n",
       "      <td>454</td>\n",
       "      <td>35.9</td>\n",
       "      <td>美</td>\n",
       "      <td>...</td>\n",
       "      <td>True</td>\n",
       "      <td>False</td>\n",
       "      <td>False</td>\n",
       "      <td>False</td>\n",
       "      <td>0.0</td>\n",
       "      <td>0.0</td>\n",
       "      <td>0.0</td>\n",
       "      <td>88.0</td>\n",
       "      <td>NaN</td>\n",
       "      <td>72498.0</td>\n",
       "    </tr>\n",
       "    <tr>\n",
       "      <th>1</th>\n",
       "      <td>札幌</td>\n",
       "      <td>フクノワカバ</td>\n",
       "      <td>1000</td>\n",
       "      <td>59.3</td>\n",
       "      <td>7</td>\n",
       "      <td>54.0</td>\n",
       "      <td>5</td>\n",
       "      <td>446</td>\n",
       "      <td>36.1</td>\n",
       "      <td>栗</td>\n",
       "      <td>...</td>\n",
       "      <td>False</td>\n",
       "      <td>False</td>\n",
       "      <td>False</td>\n",
       "      <td>False</td>\n",
       "      <td>0.0</td>\n",
       "      <td>3665.0</td>\n",
       "      <td>94540.0</td>\n",
       "      <td>43.0</td>\n",
       "      <td>412.0</td>\n",
       "      <td>404263.0</td>\n",
       "    </tr>\n",
       "    <tr>\n",
       "      <th>2</th>\n",
       "      <td>札幌</td>\n",
       "      <td>クロンヌドラレーヌ</td>\n",
       "      <td>1000</td>\n",
       "      <td>59.3</td>\n",
       "      <td>7</td>\n",
       "      <td>54.0</td>\n",
       "      <td>12</td>\n",
       "      <td>452</td>\n",
       "      <td>35.1</td>\n",
       "      <td>美</td>\n",
       "      <td>...</td>\n",
       "      <td>True</td>\n",
       "      <td>False</td>\n",
       "      <td>False</td>\n",
       "      <td>False</td>\n",
       "      <td>65140.0</td>\n",
       "      <td>14376.0</td>\n",
       "      <td>0.0</td>\n",
       "      <td>295.0</td>\n",
       "      <td>49.0</td>\n",
       "      <td>5906921.0</td>\n",
       "    </tr>\n",
       "    <tr>\n",
       "      <th>3</th>\n",
       "      <td>札幌</td>\n",
       "      <td>アカザ</td>\n",
       "      <td>1000</td>\n",
       "      <td>59.4</td>\n",
       "      <td>7</td>\n",
       "      <td>53.0</td>\n",
       "      <td>10</td>\n",
       "      <td>444</td>\n",
       "      <td>36.1</td>\n",
       "      <td>美</td>\n",
       "      <td>...</td>\n",
       "      <td>True</td>\n",
       "      <td>False</td>\n",
       "      <td>False</td>\n",
       "      <td>False</td>\n",
       "      <td>51630.0</td>\n",
       "      <td>0.0</td>\n",
       "      <td>0.0</td>\n",
       "      <td>23.0</td>\n",
       "      <td>14.0</td>\n",
       "      <td>194921.0</td>\n",
       "    </tr>\n",
       "    <tr>\n",
       "      <th>4</th>\n",
       "      <td>札幌</td>\n",
       "      <td>ナムラジョシュア</td>\n",
       "      <td>1000</td>\n",
       "      <td>59.5</td>\n",
       "      <td>7</td>\n",
       "      <td>56.0</td>\n",
       "      <td>4</td>\n",
       "      <td>470</td>\n",
       "      <td>35.7</td>\n",
       "      <td>栗</td>\n",
       "      <td>...</td>\n",
       "      <td>False</td>\n",
       "      <td>False</td>\n",
       "      <td>False</td>\n",
       "      <td>False</td>\n",
       "      <td>0.0</td>\n",
       "      <td>336.0</td>\n",
       "      <td>0.0</td>\n",
       "      <td>235.0</td>\n",
       "      <td>84.0</td>\n",
       "      <td>236503.0</td>\n",
       "    </tr>\n",
       "    <tr>\n",
       "      <th>5</th>\n",
       "      <td>札幌</td>\n",
       "      <td>カップッチョ</td>\n",
       "      <td>1000</td>\n",
       "      <td>59.6</td>\n",
       "      <td>7</td>\n",
       "      <td>58.0</td>\n",
       "      <td>2</td>\n",
       "      <td>488</td>\n",
       "      <td>35.9</td>\n",
       "      <td>美</td>\n",
       "      <td>...</td>\n",
       "      <td>True</td>\n",
       "      <td>False</td>\n",
       "      <td>False</td>\n",
       "      <td>False</td>\n",
       "      <td>29535.0</td>\n",
       "      <td>0.0</td>\n",
       "      <td>0.0</td>\n",
       "      <td>243.0</td>\n",
       "      <td>NaN</td>\n",
       "      <td>238440.0</td>\n",
       "    </tr>\n",
       "    <tr>\n",
       "      <th>6</th>\n",
       "      <td>札幌</td>\n",
       "      <td>グランデ</td>\n",
       "      <td>1000</td>\n",
       "      <td>59.7</td>\n",
       "      <td>7</td>\n",
       "      <td>55.0</td>\n",
       "      <td>11</td>\n",
       "      <td>470</td>\n",
       "      <td>36.3</td>\n",
       "      <td>栗</td>\n",
       "      <td>...</td>\n",
       "      <td>False</td>\n",
       "      <td>False</td>\n",
       "      <td>False</td>\n",
       "      <td>False</td>\n",
       "      <td>0.0</td>\n",
       "      <td>380.0</td>\n",
       "      <td>0.0</td>\n",
       "      <td>286.0</td>\n",
       "      <td>71.0</td>\n",
       "      <td>54188.0</td>\n",
       "    </tr>\n",
       "  </tbody>\n",
       "</table>\n",
       "<p>7 rows × 79 columns</p>\n",
       "</div>"
      ],
      "text/plain": [
       "   場所               馬名    距離  走破タイム  レース番号    斤量  馬番  馬体重  上がり3Fタイム 所属地  ...  \\\n",
       "0  札幌      サンダビューク      1000   59.3      7  58.0   6  454      35.9   美  ...   \n",
       "1  札幌     フクノワカバ        1000   59.3      7  54.0   5  446      36.1   栗  ...   \n",
       "2  札幌        クロンヌドラレーヌ  1000   59.3      7  54.0  12  452      35.1   美  ...   \n",
       "3  札幌  アカザ              1000   59.4      7  53.0  10  444      36.1   美  ...   \n",
       "4  札幌       ナムラジョシュア    1000   59.5      7  56.0   4  470      35.7   栗  ...   \n",
       "5  札幌     カップッチョ        1000   59.6      7  58.0   2  488      35.9   美  ...   \n",
       "6  札幌   グランデ            1000   59.7      7  55.0  11  470      36.3   栗  ...   \n",
       "\n",
       "    美→札幌   美→東京   美→福島   美→阪神     父の賞金     母の賞金    母父の賞金   調教師点    騎手点  \\\n",
       "0   True  False  False  False      0.0      0.0      0.0   88.0    NaN   \n",
       "1  False  False  False  False      0.0   3665.0  94540.0   43.0  412.0   \n",
       "2   True  False  False  False  65140.0  14376.0      0.0  295.0   49.0   \n",
       "3   True  False  False  False  51630.0      0.0      0.0   23.0   14.0   \n",
       "4  False  False  False  False      0.0    336.0      0.0  235.0   84.0   \n",
       "5   True  False  False  False  29535.0      0.0      0.0  243.0    NaN   \n",
       "6  False  False  False  False      0.0    380.0      0.0  286.0   71.0   \n",
       "\n",
       "        生産者点  \n",
       "0    72498.0  \n",
       "1   404263.0  \n",
       "2  5906921.0  \n",
       "3   194921.0  \n",
       "4   236503.0  \n",
       "5   238440.0  \n",
       "6    54188.0  \n",
       "\n",
       "[7 rows x 79 columns]"
      ]
     },
     "execution_count": 62,
     "metadata": {},
     "output_type": "execute_result"
    }
   ],
   "source": [
    "# '生産者名'をプライマリキーとして'生産者点'列を df に追加\n",
    "df2 = pd.merge(df2, seisansya[['生産者名','生産者点']], on='生産者名', how='left')\n",
    "\n",
    "# 結果のデータフレーム df2を表示\n",
    "df2.head(7)"
   ]
  },
  {
   "cell_type": "code",
   "execution_count": 63,
   "id": "160b6a1a",
   "metadata": {},
   "outputs": [
    {
     "data": {
      "text/plain": [
       "生産者点\n",
       "5906921.0    29358\n",
       "7171309.0    28254\n",
       "903635.0      7501\n",
       "3607832.0     7437\n",
       "1159554.0     7400\n",
       "             ...  \n",
       "8960.0           1\n",
       "4330.0           1\n",
       "3368.0           1\n",
       "278.0            1\n",
       "857.0            1\n",
       "Name: count, Length: 1259, dtype: int64"
      ]
     },
     "execution_count": 63,
     "metadata": {},
     "output_type": "execute_result"
    }
   ],
   "source": [
    "#最頻値\n",
    "df2['生産者点'].value_counts()"
   ]
  },
  {
   "cell_type": "code",
   "execution_count": 64,
   "id": "8206671d",
   "metadata": {},
   "outputs": [
    {
     "data": {
      "text/plain": [
       "76619"
      ]
     },
     "execution_count": 64,
     "metadata": {},
     "output_type": "execute_result"
    }
   ],
   "source": [
    "#NaNの数\n",
    "df2['生産者点'].isna().sum()"
   ]
  },
  {
   "cell_type": "code",
   "execution_count": 65,
   "id": "90833495",
   "metadata": {},
   "outputs": [
    {
     "data": {
      "text/plain": [
       "(537533, 78)"
      ]
     },
     "execution_count": 65,
     "metadata": {},
     "output_type": "execute_result"
    }
   ],
   "source": [
    "# '生産者名'を削除\n",
    "df2 = df2.drop(['生産者名'], axis=1)\n",
    "df2.shape"
   ]
  },
  {
   "cell_type": "code",
   "execution_count": 66,
   "id": "b23d980f",
   "metadata": {},
   "outputs": [],
   "source": [
    "# dfのNaNを全て0に変換\n",
    "df2.fillna(0, inplace=True)"
   ]
  },
  {
   "cell_type": "code",
   "execution_count": null,
   "id": "f1f246dc",
   "metadata": {},
   "outputs": [],
   "source": []
  },
  {
   "cell_type": "code",
   "execution_count": null,
   "id": "1ca4102e",
   "metadata": {},
   "outputs": [],
   "source": []
  },
  {
   "cell_type": "code",
   "execution_count": null,
   "id": "e8d604bc",
   "metadata": {},
   "outputs": [],
   "source": []
  },
  {
   "cell_type": "code",
   "execution_count": null,
   "id": "e6d07400",
   "metadata": {},
   "outputs": [],
   "source": []
  },
  {
   "cell_type": "code",
   "execution_count": null,
   "id": "59f55778",
   "metadata": {},
   "outputs": [],
   "source": []
  },
  {
   "cell_type": "code",
   "execution_count": 67,
   "id": "af1d5234",
   "metadata": {},
   "outputs": [],
   "source": [
    "# データフレームをpickleファイルとして保存\n",
    "df2.to_pickle('名前を数値化0218.pkl')"
   ]
  },
  {
   "cell_type": "code",
   "execution_count": null,
   "id": "f7a9cdd8",
   "metadata": {},
   "outputs": [],
   "source": []
  }
 ],
 "metadata": {
  "kernelspec": {
   "display_name": "Python 3 (ipykernel)",
   "language": "python",
   "name": "python3"
  },
  "language_info": {
   "codemirror_mode": {
    "name": "ipython",
    "version": 3
   },
   "file_extension": ".py",
   "mimetype": "text/x-python",
   "name": "python",
   "nbconvert_exporter": "python",
   "pygments_lexer": "ipython3",
   "version": "3.11.5"
  }
 },
 "nbformat": 4,
 "nbformat_minor": 5
}
